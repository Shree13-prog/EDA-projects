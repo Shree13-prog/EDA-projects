{
 "cells": [
  {
   "cell_type": "markdown",
   "id": "28dc9527-393c-46b1-909e-e0b6e6ca91bc",
   "metadata": {},
   "source": [
    "# Exploratory Data Analysis - Google Playstore App Analysis "
   ]
  },
  {
   "cell_type": "markdown",
   "id": "d1a94719-661c-4c8b-a55d-20d031642ed4",
   "metadata": {},
   "source": [
    "The Google Play Store is the largest marketplace for Android applications, offering a vast collection of apps, games, books, music, movies, and more. It serves as the primary hub for Android users to discover, download, and update apps, whether free or paid. With millions of apps available and a rapidly growing user base, understanding trends and patterns in the Play Store can provide valuable insights into app popularity, user preferences, and market competition. \n",
    "\n",
    "For this project, we will analyze the Google Play Store Apps dataset, sourced from Kaggle. This dataset contains information on approximately 10,000 apps, including their categories, ratings, number of installs, pricing, and more. \n",
    "\n",
    "The goal of this Exploratory Data Analysis (EDA) is to uncover key insights such as rating distributions, app pricing trends, category popularity, and user engagement metrics. \n",
    "\n",
    "To achieve this, we will utilize Python and data analysis libraries including NumPy, Pandas, Matplotlib, and Seaborn to clean, visualize, and interpret the data effectively. This analysis will help us better understand the dynamics of the Play Store and what factors contribute to an app’s success."
   ]
  },
  {
   "cell_type": "code",
   "execution_count": 3,
   "id": "5118cff3-4ef4-4d96-a98c-90e3ac65cabb",
   "metadata": {},
   "outputs": [],
   "source": [
    "import pandas as pd\n",
    "import numpy as np\n",
    "import matplotlib.pyplot as plt\n",
    "import seaborn as sns\n",
    "import warnings\n",
    "warnings.filterwarnings('ignore')"
   ]
  },
  {
   "cell_type": "code",
   "execution_count": 4,
   "id": "7ae8d1fc-d00a-4db4-b25d-ce18fe3a65ed",
   "metadata": {},
   "outputs": [],
   "source": [
    "df = pd.read_csv(r\"C:\\Users\\Admin\\Downloads\\DATA ANANLYSIS FILES\\googleplaystore.csv\")"
   ]
  },
  {
   "cell_type": "code",
   "execution_count": 5,
   "id": "113f980c-a065-49cb-917a-a0bd13999577",
   "metadata": {},
   "outputs": [
    {
     "data": {
      "text/html": [
       "<div>\n",
       "<style scoped>\n",
       "    .dataframe tbody tr th:only-of-type {\n",
       "        vertical-align: middle;\n",
       "    }\n",
       "\n",
       "    .dataframe tbody tr th {\n",
       "        vertical-align: top;\n",
       "    }\n",
       "\n",
       "    .dataframe thead th {\n",
       "        text-align: right;\n",
       "    }\n",
       "</style>\n",
       "<table border=\"1\" class=\"dataframe\">\n",
       "  <thead>\n",
       "    <tr style=\"text-align: right;\">\n",
       "      <th></th>\n",
       "      <th>App</th>\n",
       "      <th>Category</th>\n",
       "      <th>Rating</th>\n",
       "      <th>Reviews</th>\n",
       "      <th>Size</th>\n",
       "      <th>Installs</th>\n",
       "      <th>Type</th>\n",
       "      <th>Price</th>\n",
       "      <th>Content Rating</th>\n",
       "      <th>Genres</th>\n",
       "      <th>Last Updated</th>\n",
       "      <th>Current Ver</th>\n",
       "      <th>Android Ver</th>\n",
       "    </tr>\n",
       "  </thead>\n",
       "  <tbody>\n",
       "    <tr>\n",
       "      <th>0</th>\n",
       "      <td>Photo Editor &amp; Candy Camera &amp; Grid &amp; ScrapBook</td>\n",
       "      <td>ART_AND_DESIGN</td>\n",
       "      <td>4.1</td>\n",
       "      <td>159</td>\n",
       "      <td>19M</td>\n",
       "      <td>10,000+</td>\n",
       "      <td>Free</td>\n",
       "      <td>0</td>\n",
       "      <td>Everyone</td>\n",
       "      <td>Art &amp; Design</td>\n",
       "      <td>January 7, 2018</td>\n",
       "      <td>1.0.0</td>\n",
       "      <td>4.0.3 and up</td>\n",
       "    </tr>\n",
       "    <tr>\n",
       "      <th>1</th>\n",
       "      <td>Coloring book moana</td>\n",
       "      <td>ART_AND_DESIGN</td>\n",
       "      <td>3.9</td>\n",
       "      <td>967</td>\n",
       "      <td>14M</td>\n",
       "      <td>500,000+</td>\n",
       "      <td>Free</td>\n",
       "      <td>0</td>\n",
       "      <td>Everyone</td>\n",
       "      <td>Art &amp; Design;Pretend Play</td>\n",
       "      <td>January 15, 2018</td>\n",
       "      <td>2.0.0</td>\n",
       "      <td>4.0.3 and up</td>\n",
       "    </tr>\n",
       "    <tr>\n",
       "      <th>2</th>\n",
       "      <td>U Launcher Lite – FREE Live Cool Themes, Hide ...</td>\n",
       "      <td>ART_AND_DESIGN</td>\n",
       "      <td>4.7</td>\n",
       "      <td>87510</td>\n",
       "      <td>8.7M</td>\n",
       "      <td>5,000,000+</td>\n",
       "      <td>Free</td>\n",
       "      <td>0</td>\n",
       "      <td>Everyone</td>\n",
       "      <td>Art &amp; Design</td>\n",
       "      <td>August 1, 2018</td>\n",
       "      <td>1.2.4</td>\n",
       "      <td>4.0.3 and up</td>\n",
       "    </tr>\n",
       "    <tr>\n",
       "      <th>3</th>\n",
       "      <td>Sketch - Draw &amp; Paint</td>\n",
       "      <td>ART_AND_DESIGN</td>\n",
       "      <td>4.5</td>\n",
       "      <td>215644</td>\n",
       "      <td>25M</td>\n",
       "      <td>50,000,000+</td>\n",
       "      <td>Free</td>\n",
       "      <td>0</td>\n",
       "      <td>Teen</td>\n",
       "      <td>Art &amp; Design</td>\n",
       "      <td>June 8, 2018</td>\n",
       "      <td>Varies with device</td>\n",
       "      <td>4.2 and up</td>\n",
       "    </tr>\n",
       "    <tr>\n",
       "      <th>4</th>\n",
       "      <td>Pixel Draw - Number Art Coloring Book</td>\n",
       "      <td>ART_AND_DESIGN</td>\n",
       "      <td>4.3</td>\n",
       "      <td>967</td>\n",
       "      <td>2.8M</td>\n",
       "      <td>100,000+</td>\n",
       "      <td>Free</td>\n",
       "      <td>0</td>\n",
       "      <td>Everyone</td>\n",
       "      <td>Art &amp; Design;Creativity</td>\n",
       "      <td>June 20, 2018</td>\n",
       "      <td>1.1</td>\n",
       "      <td>4.4 and up</td>\n",
       "    </tr>\n",
       "    <tr>\n",
       "      <th>...</th>\n",
       "      <td>...</td>\n",
       "      <td>...</td>\n",
       "      <td>...</td>\n",
       "      <td>...</td>\n",
       "      <td>...</td>\n",
       "      <td>...</td>\n",
       "      <td>...</td>\n",
       "      <td>...</td>\n",
       "      <td>...</td>\n",
       "      <td>...</td>\n",
       "      <td>...</td>\n",
       "      <td>...</td>\n",
       "      <td>...</td>\n",
       "    </tr>\n",
       "    <tr>\n",
       "      <th>10836</th>\n",
       "      <td>Sya9a Maroc - FR</td>\n",
       "      <td>FAMILY</td>\n",
       "      <td>4.5</td>\n",
       "      <td>38</td>\n",
       "      <td>53M</td>\n",
       "      <td>5,000+</td>\n",
       "      <td>Free</td>\n",
       "      <td>0</td>\n",
       "      <td>Everyone</td>\n",
       "      <td>Education</td>\n",
       "      <td>July 25, 2017</td>\n",
       "      <td>1.48</td>\n",
       "      <td>4.1 and up</td>\n",
       "    </tr>\n",
       "    <tr>\n",
       "      <th>10837</th>\n",
       "      <td>Fr. Mike Schmitz Audio Teachings</td>\n",
       "      <td>FAMILY</td>\n",
       "      <td>5.0</td>\n",
       "      <td>4</td>\n",
       "      <td>3.6M</td>\n",
       "      <td>100+</td>\n",
       "      <td>Free</td>\n",
       "      <td>0</td>\n",
       "      <td>Everyone</td>\n",
       "      <td>Education</td>\n",
       "      <td>July 6, 2018</td>\n",
       "      <td>1.0</td>\n",
       "      <td>4.1 and up</td>\n",
       "    </tr>\n",
       "    <tr>\n",
       "      <th>10838</th>\n",
       "      <td>Parkinson Exercices FR</td>\n",
       "      <td>MEDICAL</td>\n",
       "      <td>NaN</td>\n",
       "      <td>3</td>\n",
       "      <td>9.5M</td>\n",
       "      <td>1,000+</td>\n",
       "      <td>Free</td>\n",
       "      <td>0</td>\n",
       "      <td>Everyone</td>\n",
       "      <td>Medical</td>\n",
       "      <td>January 20, 2017</td>\n",
       "      <td>1.0</td>\n",
       "      <td>2.2 and up</td>\n",
       "    </tr>\n",
       "    <tr>\n",
       "      <th>10839</th>\n",
       "      <td>The SCP Foundation DB fr nn5n</td>\n",
       "      <td>BOOKS_AND_REFERENCE</td>\n",
       "      <td>4.5</td>\n",
       "      <td>114</td>\n",
       "      <td>Varies with device</td>\n",
       "      <td>1,000+</td>\n",
       "      <td>Free</td>\n",
       "      <td>0</td>\n",
       "      <td>Mature 17+</td>\n",
       "      <td>Books &amp; Reference</td>\n",
       "      <td>January 19, 2015</td>\n",
       "      <td>Varies with device</td>\n",
       "      <td>Varies with device</td>\n",
       "    </tr>\n",
       "    <tr>\n",
       "      <th>10840</th>\n",
       "      <td>iHoroscope - 2018 Daily Horoscope &amp; Astrology</td>\n",
       "      <td>LIFESTYLE</td>\n",
       "      <td>4.5</td>\n",
       "      <td>398307</td>\n",
       "      <td>19M</td>\n",
       "      <td>10,000,000+</td>\n",
       "      <td>Free</td>\n",
       "      <td>0</td>\n",
       "      <td>Everyone</td>\n",
       "      <td>Lifestyle</td>\n",
       "      <td>July 25, 2018</td>\n",
       "      <td>Varies with device</td>\n",
       "      <td>Varies with device</td>\n",
       "    </tr>\n",
       "  </tbody>\n",
       "</table>\n",
       "<p>10841 rows × 13 columns</p>\n",
       "</div>"
      ],
      "text/plain": [
       "                                                     App             Category  \\\n",
       "0         Photo Editor & Candy Camera & Grid & ScrapBook       ART_AND_DESIGN   \n",
       "1                                    Coloring book moana       ART_AND_DESIGN   \n",
       "2      U Launcher Lite – FREE Live Cool Themes, Hide ...       ART_AND_DESIGN   \n",
       "3                                  Sketch - Draw & Paint       ART_AND_DESIGN   \n",
       "4                  Pixel Draw - Number Art Coloring Book       ART_AND_DESIGN   \n",
       "...                                                  ...                  ...   \n",
       "10836                                   Sya9a Maroc - FR               FAMILY   \n",
       "10837                   Fr. Mike Schmitz Audio Teachings               FAMILY   \n",
       "10838                             Parkinson Exercices FR              MEDICAL   \n",
       "10839                      The SCP Foundation DB fr nn5n  BOOKS_AND_REFERENCE   \n",
       "10840      iHoroscope - 2018 Daily Horoscope & Astrology            LIFESTYLE   \n",
       "\n",
       "       Rating Reviews                Size     Installs  Type Price  \\\n",
       "0         4.1     159                 19M      10,000+  Free     0   \n",
       "1         3.9     967                 14M     500,000+  Free     0   \n",
       "2         4.7   87510                8.7M   5,000,000+  Free     0   \n",
       "3         4.5  215644                 25M  50,000,000+  Free     0   \n",
       "4         4.3     967                2.8M     100,000+  Free     0   \n",
       "...       ...     ...                 ...          ...   ...   ...   \n",
       "10836     4.5      38                 53M       5,000+  Free     0   \n",
       "10837     5.0       4                3.6M         100+  Free     0   \n",
       "10838     NaN       3                9.5M       1,000+  Free     0   \n",
       "10839     4.5     114  Varies with device       1,000+  Free     0   \n",
       "10840     4.5  398307                 19M  10,000,000+  Free     0   \n",
       "\n",
       "      Content Rating                     Genres      Last Updated  \\\n",
       "0           Everyone               Art & Design   January 7, 2018   \n",
       "1           Everyone  Art & Design;Pretend Play  January 15, 2018   \n",
       "2           Everyone               Art & Design    August 1, 2018   \n",
       "3               Teen               Art & Design      June 8, 2018   \n",
       "4           Everyone    Art & Design;Creativity     June 20, 2018   \n",
       "...              ...                        ...               ...   \n",
       "10836       Everyone                  Education     July 25, 2017   \n",
       "10837       Everyone                  Education      July 6, 2018   \n",
       "10838       Everyone                    Medical  January 20, 2017   \n",
       "10839     Mature 17+          Books & Reference  January 19, 2015   \n",
       "10840       Everyone                  Lifestyle     July 25, 2018   \n",
       "\n",
       "              Current Ver         Android Ver  \n",
       "0                   1.0.0        4.0.3 and up  \n",
       "1                   2.0.0        4.0.3 and up  \n",
       "2                   1.2.4        4.0.3 and up  \n",
       "3      Varies with device          4.2 and up  \n",
       "4                     1.1          4.4 and up  \n",
       "...                   ...                 ...  \n",
       "10836                1.48          4.1 and up  \n",
       "10837                 1.0          4.1 and up  \n",
       "10838                 1.0          2.2 and up  \n",
       "10839  Varies with device  Varies with device  \n",
       "10840  Varies with device  Varies with device  \n",
       "\n",
       "[10841 rows x 13 columns]"
      ]
     },
     "execution_count": 5,
     "metadata": {},
     "output_type": "execute_result"
    }
   ],
   "source": [
    "df"
   ]
  },
  {
   "cell_type": "code",
   "execution_count": 6,
   "id": "49e676cc-4017-4656-984d-8c7bbca0dd2a",
   "metadata": {},
   "outputs": [
    {
     "data": {
      "text/html": [
       "<div>\n",
       "<style scoped>\n",
       "    .dataframe tbody tr th:only-of-type {\n",
       "        vertical-align: middle;\n",
       "    }\n",
       "\n",
       "    .dataframe tbody tr th {\n",
       "        vertical-align: top;\n",
       "    }\n",
       "\n",
       "    .dataframe thead th {\n",
       "        text-align: right;\n",
       "    }\n",
       "</style>\n",
       "<table border=\"1\" class=\"dataframe\">\n",
       "  <thead>\n",
       "    <tr style=\"text-align: right;\">\n",
       "      <th></th>\n",
       "      <th>App</th>\n",
       "      <th>Category</th>\n",
       "      <th>Rating</th>\n",
       "      <th>Reviews</th>\n",
       "      <th>Size</th>\n",
       "      <th>Installs</th>\n",
       "      <th>Type</th>\n",
       "      <th>Price</th>\n",
       "      <th>Content Rating</th>\n",
       "      <th>Genres</th>\n",
       "      <th>Last Updated</th>\n",
       "      <th>Current Ver</th>\n",
       "      <th>Android Ver</th>\n",
       "    </tr>\n",
       "  </thead>\n",
       "  <tbody>\n",
       "    <tr>\n",
       "      <th>0</th>\n",
       "      <td>Photo Editor &amp; Candy Camera &amp; Grid &amp; ScrapBook</td>\n",
       "      <td>ART_AND_DESIGN</td>\n",
       "      <td>4.1</td>\n",
       "      <td>159</td>\n",
       "      <td>19M</td>\n",
       "      <td>10,000+</td>\n",
       "      <td>Free</td>\n",
       "      <td>0</td>\n",
       "      <td>Everyone</td>\n",
       "      <td>Art &amp; Design</td>\n",
       "      <td>January 7, 2018</td>\n",
       "      <td>1.0.0</td>\n",
       "      <td>4.0.3 and up</td>\n",
       "    </tr>\n",
       "    <tr>\n",
       "      <th>1</th>\n",
       "      <td>Coloring book moana</td>\n",
       "      <td>ART_AND_DESIGN</td>\n",
       "      <td>3.9</td>\n",
       "      <td>967</td>\n",
       "      <td>14M</td>\n",
       "      <td>500,000+</td>\n",
       "      <td>Free</td>\n",
       "      <td>0</td>\n",
       "      <td>Everyone</td>\n",
       "      <td>Art &amp; Design;Pretend Play</td>\n",
       "      <td>January 15, 2018</td>\n",
       "      <td>2.0.0</td>\n",
       "      <td>4.0.3 and up</td>\n",
       "    </tr>\n",
       "    <tr>\n",
       "      <th>2</th>\n",
       "      <td>U Launcher Lite – FREE Live Cool Themes, Hide ...</td>\n",
       "      <td>ART_AND_DESIGN</td>\n",
       "      <td>4.7</td>\n",
       "      <td>87510</td>\n",
       "      <td>8.7M</td>\n",
       "      <td>5,000,000+</td>\n",
       "      <td>Free</td>\n",
       "      <td>0</td>\n",
       "      <td>Everyone</td>\n",
       "      <td>Art &amp; Design</td>\n",
       "      <td>August 1, 2018</td>\n",
       "      <td>1.2.4</td>\n",
       "      <td>4.0.3 and up</td>\n",
       "    </tr>\n",
       "    <tr>\n",
       "      <th>3</th>\n",
       "      <td>Sketch - Draw &amp; Paint</td>\n",
       "      <td>ART_AND_DESIGN</td>\n",
       "      <td>4.5</td>\n",
       "      <td>215644</td>\n",
       "      <td>25M</td>\n",
       "      <td>50,000,000+</td>\n",
       "      <td>Free</td>\n",
       "      <td>0</td>\n",
       "      <td>Teen</td>\n",
       "      <td>Art &amp; Design</td>\n",
       "      <td>June 8, 2018</td>\n",
       "      <td>Varies with device</td>\n",
       "      <td>4.2 and up</td>\n",
       "    </tr>\n",
       "    <tr>\n",
       "      <th>4</th>\n",
       "      <td>Pixel Draw - Number Art Coloring Book</td>\n",
       "      <td>ART_AND_DESIGN</td>\n",
       "      <td>4.3</td>\n",
       "      <td>967</td>\n",
       "      <td>2.8M</td>\n",
       "      <td>100,000+</td>\n",
       "      <td>Free</td>\n",
       "      <td>0</td>\n",
       "      <td>Everyone</td>\n",
       "      <td>Art &amp; Design;Creativity</td>\n",
       "      <td>June 20, 2018</td>\n",
       "      <td>1.1</td>\n",
       "      <td>4.4 and up</td>\n",
       "    </tr>\n",
       "    <tr>\n",
       "      <th>5</th>\n",
       "      <td>Paper flowers instructions</td>\n",
       "      <td>ART_AND_DESIGN</td>\n",
       "      <td>4.4</td>\n",
       "      <td>167</td>\n",
       "      <td>5.6M</td>\n",
       "      <td>50,000+</td>\n",
       "      <td>Free</td>\n",
       "      <td>0</td>\n",
       "      <td>Everyone</td>\n",
       "      <td>Art &amp; Design</td>\n",
       "      <td>March 26, 2017</td>\n",
       "      <td>1.0</td>\n",
       "      <td>2.3 and up</td>\n",
       "    </tr>\n",
       "    <tr>\n",
       "      <th>6</th>\n",
       "      <td>Smoke Effect Photo Maker - Smoke Editor</td>\n",
       "      <td>ART_AND_DESIGN</td>\n",
       "      <td>3.8</td>\n",
       "      <td>178</td>\n",
       "      <td>19M</td>\n",
       "      <td>50,000+</td>\n",
       "      <td>Free</td>\n",
       "      <td>0</td>\n",
       "      <td>Everyone</td>\n",
       "      <td>Art &amp; Design</td>\n",
       "      <td>April 26, 2018</td>\n",
       "      <td>1.1</td>\n",
       "      <td>4.0.3 and up</td>\n",
       "    </tr>\n",
       "    <tr>\n",
       "      <th>7</th>\n",
       "      <td>Infinite Painter</td>\n",
       "      <td>ART_AND_DESIGN</td>\n",
       "      <td>4.1</td>\n",
       "      <td>36815</td>\n",
       "      <td>29M</td>\n",
       "      <td>1,000,000+</td>\n",
       "      <td>Free</td>\n",
       "      <td>0</td>\n",
       "      <td>Everyone</td>\n",
       "      <td>Art &amp; Design</td>\n",
       "      <td>June 14, 2018</td>\n",
       "      <td>6.1.61.1</td>\n",
       "      <td>4.2 and up</td>\n",
       "    </tr>\n",
       "    <tr>\n",
       "      <th>8</th>\n",
       "      <td>Garden Coloring Book</td>\n",
       "      <td>ART_AND_DESIGN</td>\n",
       "      <td>4.4</td>\n",
       "      <td>13791</td>\n",
       "      <td>33M</td>\n",
       "      <td>1,000,000+</td>\n",
       "      <td>Free</td>\n",
       "      <td>0</td>\n",
       "      <td>Everyone</td>\n",
       "      <td>Art &amp; Design</td>\n",
       "      <td>September 20, 2017</td>\n",
       "      <td>2.9.2</td>\n",
       "      <td>3.0 and up</td>\n",
       "    </tr>\n",
       "    <tr>\n",
       "      <th>9</th>\n",
       "      <td>Kids Paint Free - Drawing Fun</td>\n",
       "      <td>ART_AND_DESIGN</td>\n",
       "      <td>4.7</td>\n",
       "      <td>121</td>\n",
       "      <td>3.1M</td>\n",
       "      <td>10,000+</td>\n",
       "      <td>Free</td>\n",
       "      <td>0</td>\n",
       "      <td>Everyone</td>\n",
       "      <td>Art &amp; Design;Creativity</td>\n",
       "      <td>July 3, 2018</td>\n",
       "      <td>2.8</td>\n",
       "      <td>4.0.3 and up</td>\n",
       "    </tr>\n",
       "  </tbody>\n",
       "</table>\n",
       "</div>"
      ],
      "text/plain": [
       "                                                 App        Category  Rating  \\\n",
       "0     Photo Editor & Candy Camera & Grid & ScrapBook  ART_AND_DESIGN     4.1   \n",
       "1                                Coloring book moana  ART_AND_DESIGN     3.9   \n",
       "2  U Launcher Lite – FREE Live Cool Themes, Hide ...  ART_AND_DESIGN     4.7   \n",
       "3                              Sketch - Draw & Paint  ART_AND_DESIGN     4.5   \n",
       "4              Pixel Draw - Number Art Coloring Book  ART_AND_DESIGN     4.3   \n",
       "5                         Paper flowers instructions  ART_AND_DESIGN     4.4   \n",
       "6            Smoke Effect Photo Maker - Smoke Editor  ART_AND_DESIGN     3.8   \n",
       "7                                   Infinite Painter  ART_AND_DESIGN     4.1   \n",
       "8                               Garden Coloring Book  ART_AND_DESIGN     4.4   \n",
       "9                      Kids Paint Free - Drawing Fun  ART_AND_DESIGN     4.7   \n",
       "\n",
       "  Reviews  Size     Installs  Type Price Content Rating  \\\n",
       "0     159   19M      10,000+  Free     0       Everyone   \n",
       "1     967   14M     500,000+  Free     0       Everyone   \n",
       "2   87510  8.7M   5,000,000+  Free     0       Everyone   \n",
       "3  215644   25M  50,000,000+  Free     0           Teen   \n",
       "4     967  2.8M     100,000+  Free     0       Everyone   \n",
       "5     167  5.6M      50,000+  Free     0       Everyone   \n",
       "6     178   19M      50,000+  Free     0       Everyone   \n",
       "7   36815   29M   1,000,000+  Free     0       Everyone   \n",
       "8   13791   33M   1,000,000+  Free     0       Everyone   \n",
       "9     121  3.1M      10,000+  Free     0       Everyone   \n",
       "\n",
       "                      Genres        Last Updated         Current Ver  \\\n",
       "0               Art & Design     January 7, 2018               1.0.0   \n",
       "1  Art & Design;Pretend Play    January 15, 2018               2.0.0   \n",
       "2               Art & Design      August 1, 2018               1.2.4   \n",
       "3               Art & Design        June 8, 2018  Varies with device   \n",
       "4    Art & Design;Creativity       June 20, 2018                 1.1   \n",
       "5               Art & Design      March 26, 2017                 1.0   \n",
       "6               Art & Design      April 26, 2018                 1.1   \n",
       "7               Art & Design       June 14, 2018            6.1.61.1   \n",
       "8               Art & Design  September 20, 2017               2.9.2   \n",
       "9    Art & Design;Creativity        July 3, 2018                 2.8   \n",
       "\n",
       "    Android Ver  \n",
       "0  4.0.3 and up  \n",
       "1  4.0.3 and up  \n",
       "2  4.0.3 and up  \n",
       "3    4.2 and up  \n",
       "4    4.4 and up  \n",
       "5    2.3 and up  \n",
       "6  4.0.3 and up  \n",
       "7    4.2 and up  \n",
       "8    3.0 and up  \n",
       "9  4.0.3 and up  "
      ]
     },
     "execution_count": 6,
     "metadata": {},
     "output_type": "execute_result"
    }
   ],
   "source": [
    "#1st ten record of the dataset\n",
    "df.head(10)"
   ]
  },
  {
   "cell_type": "code",
   "execution_count": 7,
   "id": "ebdabbc4-4279-4df2-b3f5-5d4af19d34b8",
   "metadata": {},
   "outputs": [
    {
     "data": {
      "text/html": [
       "<div>\n",
       "<style scoped>\n",
       "    .dataframe tbody tr th:only-of-type {\n",
       "        vertical-align: middle;\n",
       "    }\n",
       "\n",
       "    .dataframe tbody tr th {\n",
       "        vertical-align: top;\n",
       "    }\n",
       "\n",
       "    .dataframe thead th {\n",
       "        text-align: right;\n",
       "    }\n",
       "</style>\n",
       "<table border=\"1\" class=\"dataframe\">\n",
       "  <thead>\n",
       "    <tr style=\"text-align: right;\">\n",
       "      <th></th>\n",
       "      <th>App</th>\n",
       "      <th>Category</th>\n",
       "      <th>Rating</th>\n",
       "      <th>Reviews</th>\n",
       "      <th>Size</th>\n",
       "      <th>Installs</th>\n",
       "      <th>Type</th>\n",
       "      <th>Price</th>\n",
       "      <th>Content Rating</th>\n",
       "      <th>Genres</th>\n",
       "      <th>Last Updated</th>\n",
       "      <th>Current Ver</th>\n",
       "      <th>Android Ver</th>\n",
       "    </tr>\n",
       "  </thead>\n",
       "  <tbody>\n",
       "    <tr>\n",
       "      <th>10831</th>\n",
       "      <td>payermonstationnement.fr</td>\n",
       "      <td>MAPS_AND_NAVIGATION</td>\n",
       "      <td>NaN</td>\n",
       "      <td>38</td>\n",
       "      <td>9.8M</td>\n",
       "      <td>5,000+</td>\n",
       "      <td>Free</td>\n",
       "      <td>0</td>\n",
       "      <td>Everyone</td>\n",
       "      <td>Maps &amp; Navigation</td>\n",
       "      <td>June 13, 2018</td>\n",
       "      <td>2.0.148.0</td>\n",
       "      <td>4.0 and up</td>\n",
       "    </tr>\n",
       "    <tr>\n",
       "      <th>10832</th>\n",
       "      <td>FR Tides</td>\n",
       "      <td>WEATHER</td>\n",
       "      <td>3.8</td>\n",
       "      <td>1195</td>\n",
       "      <td>582k</td>\n",
       "      <td>100,000+</td>\n",
       "      <td>Free</td>\n",
       "      <td>0</td>\n",
       "      <td>Everyone</td>\n",
       "      <td>Weather</td>\n",
       "      <td>February 16, 2014</td>\n",
       "      <td>6.0</td>\n",
       "      <td>2.1 and up</td>\n",
       "    </tr>\n",
       "    <tr>\n",
       "      <th>10833</th>\n",
       "      <td>Chemin (fr)</td>\n",
       "      <td>BOOKS_AND_REFERENCE</td>\n",
       "      <td>4.8</td>\n",
       "      <td>44</td>\n",
       "      <td>619k</td>\n",
       "      <td>1,000+</td>\n",
       "      <td>Free</td>\n",
       "      <td>0</td>\n",
       "      <td>Everyone</td>\n",
       "      <td>Books &amp; Reference</td>\n",
       "      <td>March 23, 2014</td>\n",
       "      <td>0.8</td>\n",
       "      <td>2.2 and up</td>\n",
       "    </tr>\n",
       "    <tr>\n",
       "      <th>10834</th>\n",
       "      <td>FR Calculator</td>\n",
       "      <td>FAMILY</td>\n",
       "      <td>4.0</td>\n",
       "      <td>7</td>\n",
       "      <td>2.6M</td>\n",
       "      <td>500+</td>\n",
       "      <td>Free</td>\n",
       "      <td>0</td>\n",
       "      <td>Everyone</td>\n",
       "      <td>Education</td>\n",
       "      <td>June 18, 2017</td>\n",
       "      <td>1.0.0</td>\n",
       "      <td>4.1 and up</td>\n",
       "    </tr>\n",
       "    <tr>\n",
       "      <th>10835</th>\n",
       "      <td>FR Forms</td>\n",
       "      <td>BUSINESS</td>\n",
       "      <td>NaN</td>\n",
       "      <td>0</td>\n",
       "      <td>9.6M</td>\n",
       "      <td>10+</td>\n",
       "      <td>Free</td>\n",
       "      <td>0</td>\n",
       "      <td>Everyone</td>\n",
       "      <td>Business</td>\n",
       "      <td>September 29, 2016</td>\n",
       "      <td>1.1.5</td>\n",
       "      <td>4.0 and up</td>\n",
       "    </tr>\n",
       "    <tr>\n",
       "      <th>10836</th>\n",
       "      <td>Sya9a Maroc - FR</td>\n",
       "      <td>FAMILY</td>\n",
       "      <td>4.5</td>\n",
       "      <td>38</td>\n",
       "      <td>53M</td>\n",
       "      <td>5,000+</td>\n",
       "      <td>Free</td>\n",
       "      <td>0</td>\n",
       "      <td>Everyone</td>\n",
       "      <td>Education</td>\n",
       "      <td>July 25, 2017</td>\n",
       "      <td>1.48</td>\n",
       "      <td>4.1 and up</td>\n",
       "    </tr>\n",
       "    <tr>\n",
       "      <th>10837</th>\n",
       "      <td>Fr. Mike Schmitz Audio Teachings</td>\n",
       "      <td>FAMILY</td>\n",
       "      <td>5.0</td>\n",
       "      <td>4</td>\n",
       "      <td>3.6M</td>\n",
       "      <td>100+</td>\n",
       "      <td>Free</td>\n",
       "      <td>0</td>\n",
       "      <td>Everyone</td>\n",
       "      <td>Education</td>\n",
       "      <td>July 6, 2018</td>\n",
       "      <td>1.0</td>\n",
       "      <td>4.1 and up</td>\n",
       "    </tr>\n",
       "    <tr>\n",
       "      <th>10838</th>\n",
       "      <td>Parkinson Exercices FR</td>\n",
       "      <td>MEDICAL</td>\n",
       "      <td>NaN</td>\n",
       "      <td>3</td>\n",
       "      <td>9.5M</td>\n",
       "      <td>1,000+</td>\n",
       "      <td>Free</td>\n",
       "      <td>0</td>\n",
       "      <td>Everyone</td>\n",
       "      <td>Medical</td>\n",
       "      <td>January 20, 2017</td>\n",
       "      <td>1.0</td>\n",
       "      <td>2.2 and up</td>\n",
       "    </tr>\n",
       "    <tr>\n",
       "      <th>10839</th>\n",
       "      <td>The SCP Foundation DB fr nn5n</td>\n",
       "      <td>BOOKS_AND_REFERENCE</td>\n",
       "      <td>4.5</td>\n",
       "      <td>114</td>\n",
       "      <td>Varies with device</td>\n",
       "      <td>1,000+</td>\n",
       "      <td>Free</td>\n",
       "      <td>0</td>\n",
       "      <td>Mature 17+</td>\n",
       "      <td>Books &amp; Reference</td>\n",
       "      <td>January 19, 2015</td>\n",
       "      <td>Varies with device</td>\n",
       "      <td>Varies with device</td>\n",
       "    </tr>\n",
       "    <tr>\n",
       "      <th>10840</th>\n",
       "      <td>iHoroscope - 2018 Daily Horoscope &amp; Astrology</td>\n",
       "      <td>LIFESTYLE</td>\n",
       "      <td>4.5</td>\n",
       "      <td>398307</td>\n",
       "      <td>19M</td>\n",
       "      <td>10,000,000+</td>\n",
       "      <td>Free</td>\n",
       "      <td>0</td>\n",
       "      <td>Everyone</td>\n",
       "      <td>Lifestyle</td>\n",
       "      <td>July 25, 2018</td>\n",
       "      <td>Varies with device</td>\n",
       "      <td>Varies with device</td>\n",
       "    </tr>\n",
       "  </tbody>\n",
       "</table>\n",
       "</div>"
      ],
      "text/plain": [
       "                                                 App             Category  \\\n",
       "10831                       payermonstationnement.fr  MAPS_AND_NAVIGATION   \n",
       "10832                                       FR Tides              WEATHER   \n",
       "10833                                    Chemin (fr)  BOOKS_AND_REFERENCE   \n",
       "10834                                  FR Calculator               FAMILY   \n",
       "10835                                       FR Forms             BUSINESS   \n",
       "10836                               Sya9a Maroc - FR               FAMILY   \n",
       "10837               Fr. Mike Schmitz Audio Teachings               FAMILY   \n",
       "10838                         Parkinson Exercices FR              MEDICAL   \n",
       "10839                  The SCP Foundation DB fr nn5n  BOOKS_AND_REFERENCE   \n",
       "10840  iHoroscope - 2018 Daily Horoscope & Astrology            LIFESTYLE   \n",
       "\n",
       "       Rating Reviews                Size     Installs  Type Price  \\\n",
       "10831     NaN      38                9.8M       5,000+  Free     0   \n",
       "10832     3.8    1195                582k     100,000+  Free     0   \n",
       "10833     4.8      44                619k       1,000+  Free     0   \n",
       "10834     4.0       7                2.6M         500+  Free     0   \n",
       "10835     NaN       0                9.6M          10+  Free     0   \n",
       "10836     4.5      38                 53M       5,000+  Free     0   \n",
       "10837     5.0       4                3.6M         100+  Free     0   \n",
       "10838     NaN       3                9.5M       1,000+  Free     0   \n",
       "10839     4.5     114  Varies with device       1,000+  Free     0   \n",
       "10840     4.5  398307                 19M  10,000,000+  Free     0   \n",
       "\n",
       "      Content Rating             Genres        Last Updated  \\\n",
       "10831       Everyone  Maps & Navigation       June 13, 2018   \n",
       "10832       Everyone            Weather   February 16, 2014   \n",
       "10833       Everyone  Books & Reference      March 23, 2014   \n",
       "10834       Everyone          Education       June 18, 2017   \n",
       "10835       Everyone           Business  September 29, 2016   \n",
       "10836       Everyone          Education       July 25, 2017   \n",
       "10837       Everyone          Education        July 6, 2018   \n",
       "10838       Everyone            Medical    January 20, 2017   \n",
       "10839     Mature 17+  Books & Reference    January 19, 2015   \n",
       "10840       Everyone          Lifestyle       July 25, 2018   \n",
       "\n",
       "              Current Ver         Android Ver  \n",
       "10831           2.0.148.0          4.0 and up  \n",
       "10832                 6.0          2.1 and up  \n",
       "10833                 0.8          2.2 and up  \n",
       "10834               1.0.0          4.1 and up  \n",
       "10835               1.1.5          4.0 and up  \n",
       "10836                1.48          4.1 and up  \n",
       "10837                 1.0          4.1 and up  \n",
       "10838                 1.0          2.2 and up  \n",
       "10839  Varies with device  Varies with device  \n",
       "10840  Varies with device  Varies with device  "
      ]
     },
     "execution_count": 7,
     "metadata": {},
     "output_type": "execute_result"
    }
   ],
   "source": [
    "#last ten record of dataset\n",
    "df.tail(10)"
   ]
  },
  {
   "cell_type": "code",
   "execution_count": 8,
   "id": "7e753b3f-995a-47f8-9550-dcfdca90c564",
   "metadata": {},
   "outputs": [
    {
     "data": {
      "text/html": [
       "<div>\n",
       "<style scoped>\n",
       "    .dataframe tbody tr th:only-of-type {\n",
       "        vertical-align: middle;\n",
       "    }\n",
       "\n",
       "    .dataframe tbody tr th {\n",
       "        vertical-align: top;\n",
       "    }\n",
       "\n",
       "    .dataframe thead th {\n",
       "        text-align: right;\n",
       "    }\n",
       "</style>\n",
       "<table border=\"1\" class=\"dataframe\">\n",
       "  <thead>\n",
       "    <tr style=\"text-align: right;\">\n",
       "      <th></th>\n",
       "      <th>App</th>\n",
       "      <th>Category</th>\n",
       "      <th>Rating</th>\n",
       "      <th>Reviews</th>\n",
       "      <th>Size</th>\n",
       "      <th>Installs</th>\n",
       "      <th>Type</th>\n",
       "      <th>Price</th>\n",
       "      <th>Content Rating</th>\n",
       "      <th>Genres</th>\n",
       "      <th>Last Updated</th>\n",
       "      <th>Current Ver</th>\n",
       "      <th>Android Ver</th>\n",
       "    </tr>\n",
       "  </thead>\n",
       "  <tbody>\n",
       "    <tr>\n",
       "      <th>3153</th>\n",
       "      <td>Gaode Map</td>\n",
       "      <td>TRAVEL_AND_LOCAL</td>\n",
       "      <td>3.9</td>\n",
       "      <td>13275</td>\n",
       "      <td>71M</td>\n",
       "      <td>1,000,000+</td>\n",
       "      <td>Free</td>\n",
       "      <td>0</td>\n",
       "      <td>Everyone</td>\n",
       "      <td>Travel &amp; Local</td>\n",
       "      <td>July 3, 2018</td>\n",
       "      <td>8.60.0.2586</td>\n",
       "      <td>4.0 and up</td>\n",
       "    </tr>\n",
       "    <tr>\n",
       "      <th>3305</th>\n",
       "      <td>Unit Converter</td>\n",
       "      <td>TOOLS</td>\n",
       "      <td>4.5</td>\n",
       "      <td>85387</td>\n",
       "      <td>5.4M</td>\n",
       "      <td>1,000,000+</td>\n",
       "      <td>Free</td>\n",
       "      <td>0</td>\n",
       "      <td>Everyone</td>\n",
       "      <td>Tools</td>\n",
       "      <td>July 3, 2018</td>\n",
       "      <td>2.1.54</td>\n",
       "      <td>4.0 and up</td>\n",
       "    </tr>\n",
       "    <tr>\n",
       "      <th>352</th>\n",
       "      <td>Browser 4G</td>\n",
       "      <td>COMMUNICATION</td>\n",
       "      <td>4.3</td>\n",
       "      <td>192948</td>\n",
       "      <td>6.6M</td>\n",
       "      <td>10,000,000+</td>\n",
       "      <td>Free</td>\n",
       "      <td>0</td>\n",
       "      <td>Everyone</td>\n",
       "      <td>Communication</td>\n",
       "      <td>June 19, 2018</td>\n",
       "      <td>24.6.6</td>\n",
       "      <td>4.0.3 - 7.1.1</td>\n",
       "    </tr>\n",
       "    <tr>\n",
       "      <th>8609</th>\n",
       "      <td>Svenska Dagbladet</td>\n",
       "      <td>NEWS_AND_MAGAZINES</td>\n",
       "      <td>2.6</td>\n",
       "      <td>820</td>\n",
       "      <td>Varies with device</td>\n",
       "      <td>100,000+</td>\n",
       "      <td>Free</td>\n",
       "      <td>0</td>\n",
       "      <td>Everyone</td>\n",
       "      <td>News &amp; Magazines</td>\n",
       "      <td>February 13, 2018</td>\n",
       "      <td>Varies with device</td>\n",
       "      <td>Varies with device</td>\n",
       "    </tr>\n",
       "    <tr>\n",
       "      <th>260</th>\n",
       "      <td>Start Meeting</td>\n",
       "      <td>BUSINESS</td>\n",
       "      <td>4.1</td>\n",
       "      <td>308</td>\n",
       "      <td>14M</td>\n",
       "      <td>50,000+</td>\n",
       "      <td>Free</td>\n",
       "      <td>0</td>\n",
       "      <td>Everyone</td>\n",
       "      <td>Business</td>\n",
       "      <td>May 29, 2018</td>\n",
       "      <td>3.1.4.0</td>\n",
       "      <td>4.0.3 and up</td>\n",
       "    </tr>\n",
       "    <tr>\n",
       "      <th>7690</th>\n",
       "      <td>gCMOB</td>\n",
       "      <td>TOOLS</td>\n",
       "      <td>4.2</td>\n",
       "      <td>7935</td>\n",
       "      <td>21M</td>\n",
       "      <td>1,000,000+</td>\n",
       "      <td>Free</td>\n",
       "      <td>0</td>\n",
       "      <td>Everyone</td>\n",
       "      <td>Tools</td>\n",
       "      <td>January 8, 2018</td>\n",
       "      <td>2.4.7</td>\n",
       "      <td>3.0 and up</td>\n",
       "    </tr>\n",
       "  </tbody>\n",
       "</table>\n",
       "</div>"
      ],
      "text/plain": [
       "                    App            Category  Rating Reviews  \\\n",
       "3153          Gaode Map    TRAVEL_AND_LOCAL     3.9   13275   \n",
       "3305     Unit Converter               TOOLS     4.5   85387   \n",
       "352          Browser 4G       COMMUNICATION     4.3  192948   \n",
       "8609  Svenska Dagbladet  NEWS_AND_MAGAZINES     2.6     820   \n",
       "260       Start Meeting            BUSINESS     4.1     308   \n",
       "7690              gCMOB               TOOLS     4.2    7935   \n",
       "\n",
       "                    Size     Installs  Type Price Content Rating  \\\n",
       "3153                 71M   1,000,000+  Free     0       Everyone   \n",
       "3305                5.4M   1,000,000+  Free     0       Everyone   \n",
       "352                 6.6M  10,000,000+  Free     0       Everyone   \n",
       "8609  Varies with device     100,000+  Free     0       Everyone   \n",
       "260                  14M      50,000+  Free     0       Everyone   \n",
       "7690                 21M   1,000,000+  Free     0       Everyone   \n",
       "\n",
       "                Genres       Last Updated         Current Ver  \\\n",
       "3153    Travel & Local       July 3, 2018         8.60.0.2586   \n",
       "3305             Tools       July 3, 2018              2.1.54   \n",
       "352      Communication      June 19, 2018              24.6.6   \n",
       "8609  News & Magazines  February 13, 2018  Varies with device   \n",
       "260           Business       May 29, 2018             3.1.4.0   \n",
       "7690             Tools    January 8, 2018               2.4.7   \n",
       "\n",
       "             Android Ver  \n",
       "3153          4.0 and up  \n",
       "3305          4.0 and up  \n",
       "352        4.0.3 - 7.1.1  \n",
       "8609  Varies with device  \n",
       "260         4.0.3 and up  \n",
       "7690          3.0 and up  "
      ]
     },
     "execution_count": 8,
     "metadata": {},
     "output_type": "execute_result"
    }
   ],
   "source": [
    "#to view random rows from dataset\n",
    "df.sample(6)"
   ]
  },
  {
   "cell_type": "markdown",
   "id": "9d27b6fe-76aa-44c1-9d31-2a862d9a1556",
   "metadata": {},
   "source": [
    "## Columns in the dataset"
   ]
  },
  {
   "cell_type": "markdown",
   "id": "8e45077c-5c13-42e0-81ec-16c8ac7ad125",
   "metadata": {},
   "source": [
    "1. App : The name of the app\n",
    "2. Category : The category of the app\n",
    "3. Rating : The rating of the app in the Play Store\n",
    "4. Reviews : The number of reviews of the app\n",
    "5. Size : The size of the app\n",
    "6. Install : The number of installs of the app\n",
    "7. Type : The type of the app (Free/Paid)\n",
    "8. The price of the app (0 if it is Free)\n",
    "9. Content Rating :The appropiate target audience of the app\n",
    "10. Genres: The genre of the app\n",
    "11. Last Updated : The date when the app was last updated\n",
    "12. Current Ver : The current version of the app\n",
    "13. Android Ver : The minimum Android version required to run the app"
   ]
  },
  {
   "cell_type": "code",
   "execution_count": 11,
   "id": "24d860bb-11ac-4d5f-a4c4-e4c976688640",
   "metadata": {},
   "outputs": [
    {
     "name": "stdout",
     "output_type": "stream",
     "text": [
      "<class 'pandas.core.frame.DataFrame'>\n",
      "RangeIndex: 10841 entries, 0 to 10840\n",
      "Data columns (total 13 columns):\n",
      " #   Column          Non-Null Count  Dtype  \n",
      "---  ------          --------------  -----  \n",
      " 0   App             10841 non-null  object \n",
      " 1   Category        10841 non-null  object \n",
      " 2   Rating          9367 non-null   float64\n",
      " 3   Reviews         10841 non-null  object \n",
      " 4   Size            10841 non-null  object \n",
      " 5   Installs        10841 non-null  object \n",
      " 6   Type            10840 non-null  object \n",
      " 7   Price           10841 non-null  object \n",
      " 8   Content Rating  10840 non-null  object \n",
      " 9   Genres          10841 non-null  object \n",
      " 10  Last Updated    10841 non-null  object \n",
      " 11  Current Ver     10833 non-null  object \n",
      " 12  Android Ver     10838 non-null  object \n",
      "dtypes: float64(1), object(12)\n",
      "memory usage: 1.1+ MB\n"
     ]
    }
   ],
   "source": [
    "#to get the information about type of data in dataset\n",
    "df.info()"
   ]
  },
  {
   "cell_type": "code",
   "execution_count": 12,
   "id": "8eb13fc8-345e-410f-8471-fbd383b2e8fe",
   "metadata": {},
   "outputs": [
    {
     "data": {
      "text/plain": [
       "(10841, 13)"
      ]
     },
     "execution_count": 12,
     "metadata": {},
     "output_type": "execute_result"
    }
   ],
   "source": [
    "df.shape"
   ]
  },
  {
   "cell_type": "code",
   "execution_count": 13,
   "id": "1188f0e5-ca05-4da5-aab6-ce3618268f7d",
   "metadata": {},
   "outputs": [
    {
     "data": {
      "text/plain": [
       "0           159\n",
       "1           967\n",
       "2         87510\n",
       "3        215644\n",
       "4           967\n",
       "          ...  \n",
       "10836        38\n",
       "10837         4\n",
       "10838         3\n",
       "10839       114\n",
       "10840    398307\n",
       "Name: Reviews, Length: 10841, dtype: object"
      ]
     },
     "execution_count": 13,
     "metadata": {},
     "output_type": "execute_result"
    }
   ],
   "source": [
    "df.Reviews"
   ]
  },
  {
   "cell_type": "markdown",
   "id": "d4baa43a-1fe8-43b8-a0cb-08b394b88c63",
   "metadata": {},
   "source": [
    "This means that there is a value which is str and is affecting the datatype of whole Review column to Object "
   ]
  },
  {
   "cell_type": "code",
   "execution_count": 15,
   "id": "8f91544a-648b-44f1-8315-2b7a0d9f801d",
   "metadata": {},
   "outputs": [
    {
     "data": {
      "text/html": [
       "<div>\n",
       "<style scoped>\n",
       "    .dataframe tbody tr th:only-of-type {\n",
       "        vertical-align: middle;\n",
       "    }\n",
       "\n",
       "    .dataframe tbody tr th {\n",
       "        vertical-align: top;\n",
       "    }\n",
       "\n",
       "    .dataframe thead th {\n",
       "        text-align: right;\n",
       "    }\n",
       "</style>\n",
       "<table border=\"1\" class=\"dataframe\">\n",
       "  <thead>\n",
       "    <tr style=\"text-align: right;\">\n",
       "      <th></th>\n",
       "      <th>App</th>\n",
       "      <th>Category</th>\n",
       "      <th>Rating</th>\n",
       "      <th>Reviews</th>\n",
       "      <th>Size</th>\n",
       "      <th>Installs</th>\n",
       "      <th>Type</th>\n",
       "      <th>Price</th>\n",
       "      <th>Content Rating</th>\n",
       "      <th>Genres</th>\n",
       "      <th>Last Updated</th>\n",
       "      <th>Current Ver</th>\n",
       "      <th>Android Ver</th>\n",
       "    </tr>\n",
       "  </thead>\n",
       "  <tbody>\n",
       "    <tr>\n",
       "      <th>10472</th>\n",
       "      <td>Life Made WI-Fi Touchscreen Photo Frame</td>\n",
       "      <td>1.9</td>\n",
       "      <td>19.0</td>\n",
       "      <td>3.0M</td>\n",
       "      <td>1,000+</td>\n",
       "      <td>Free</td>\n",
       "      <td>0</td>\n",
       "      <td>Everyone</td>\n",
       "      <td>NaN</td>\n",
       "      <td>February 11, 2018</td>\n",
       "      <td>1.0.19</td>\n",
       "      <td>4.0 and up</td>\n",
       "      <td>NaN</td>\n",
       "    </tr>\n",
       "  </tbody>\n",
       "</table>\n",
       "</div>"
      ],
      "text/plain": [
       "                                           App Category  Rating Reviews  \\\n",
       "10472  Life Made WI-Fi Touchscreen Photo Frame      1.9    19.0    3.0M   \n",
       "\n",
       "         Size Installs Type     Price Content Rating             Genres  \\\n",
       "10472  1,000+     Free    0  Everyone            NaN  February 11, 2018   \n",
       "\n",
       "      Last Updated Current Ver Android Ver  \n",
       "10472       1.0.19  4.0 and up         NaN  "
      ]
     },
     "execution_count": 15,
     "metadata": {},
     "output_type": "execute_result"
    }
   ],
   "source": [
    "#to view the row which has diff value\n",
    "df[~df.Reviews.str.isnumeric()]"
   ]
  },
  {
   "cell_type": "markdown",
   "id": "e69f086b-de49-4d0e-b7ce-8b7a88da170a",
   "metadata": {},
   "source": [
    "Here 3.0 M is the reason for the dtype : Object "
   ]
  },
  {
   "cell_type": "code",
   "execution_count": 17,
   "id": "85a54234-de91-44ac-a430-96343c3e2569",
   "metadata": {},
   "outputs": [
    {
     "data": {
      "text/plain": [
       "0                       19M\n",
       "1                       14M\n",
       "2                      8.7M\n",
       "3                       25M\n",
       "4                      2.8M\n",
       "                ...        \n",
       "10836                   53M\n",
       "10837                  3.6M\n",
       "10838                  9.5M\n",
       "10839    Varies with device\n",
       "10840                   19M\n",
       "Name: Size, Length: 10841, dtype: object"
      ]
     },
     "execution_count": 17,
     "metadata": {},
     "output_type": "execute_result"
    }
   ],
   "source": [
    "df.Size"
   ]
  },
  {
   "cell_type": "markdown",
   "id": "bf5d04df-6006-4f7b-848a-a4b796bfc20d",
   "metadata": {},
   "source": [
    "Presence of M & K in the column is altering the datatype"
   ]
  },
  {
   "cell_type": "code",
   "execution_count": 19,
   "id": "15de4d43-ad88-46c8-893c-f7ba767d8b46",
   "metadata": {},
   "outputs": [
    {
     "data": {
      "text/plain": [
       "0            10,000+\n",
       "1           500,000+\n",
       "2         5,000,000+\n",
       "3        50,000,000+\n",
       "4           100,000+\n",
       "            ...     \n",
       "10836         5,000+\n",
       "10837           100+\n",
       "10838         1,000+\n",
       "10839         1,000+\n",
       "10840    10,000,000+\n",
       "Name: Installs, Length: 10841, dtype: object"
      ]
     },
     "execution_count": 19,
     "metadata": {},
     "output_type": "execute_result"
    }
   ],
   "source": [
    "df.Installs"
   ]
  },
  {
   "cell_type": "markdown",
   "id": "9a6ea5cc-cc38-4ab0-9cf5-45748aec7510",
   "metadata": {},
   "source": [
    "Presence of the symbol '+' , ',' are altering the datatype"
   ]
  },
  {
   "cell_type": "code",
   "execution_count": 21,
   "id": "6ee5b723-8f74-42c1-a485-81bda59cf388",
   "metadata": {},
   "outputs": [
    {
     "data": {
      "text/plain": [
       "array(['0', '$4.99', '$3.99', '$6.99', '$1.49', '$2.99', '$7.99', '$5.99',\n",
       "       '$3.49', '$1.99', '$9.99', '$7.49', '$0.99', '$9.00', '$5.49',\n",
       "       '$10.00', '$24.99', '$11.99', '$79.99', '$16.99', '$14.99',\n",
       "       '$1.00', '$29.99', '$12.99', '$2.49', '$10.99', '$1.50', '$19.99',\n",
       "       '$15.99', '$33.99', '$74.99', '$39.99', '$3.95', '$4.49', '$1.70',\n",
       "       '$8.99', '$2.00', '$3.88', '$25.99', '$399.99', '$17.99',\n",
       "       '$400.00', '$3.02', '$1.76', '$4.84', '$4.77', '$1.61', '$2.50',\n",
       "       '$1.59', '$6.49', '$1.29', '$5.00', '$13.99', '$299.99', '$379.99',\n",
       "       '$37.99', '$18.99', '$389.99', '$19.90', '$8.49', '$1.75',\n",
       "       '$14.00', '$4.85', '$46.99', '$109.99', '$154.99', '$3.08',\n",
       "       '$2.59', '$4.80', '$1.96', '$19.40', '$3.90', '$4.59', '$15.46',\n",
       "       '$3.04', '$4.29', '$2.60', '$3.28', '$4.60', '$28.99', '$2.95',\n",
       "       '$2.90', '$1.97', '$200.00', '$89.99', '$2.56', '$30.99', '$3.61',\n",
       "       '$394.99', '$1.26', 'Everyone', '$1.20', '$1.04'], dtype=object)"
      ]
     },
     "execution_count": 21,
     "metadata": {},
     "output_type": "execute_result"
    }
   ],
   "source": [
    "df['Price'].unique()"
   ]
  },
  {
   "cell_type": "markdown",
   "id": "4339a6da-461b-43b7-b34a-1c6830b627a1",
   "metadata": {},
   "source": [
    "The $ symbol is altering teh datatype from int or float to Object "
   ]
  },
  {
   "cell_type": "markdown",
   "id": "037f4bf2-5dd7-446f-9061-8a8f0d9c1b16",
   "metadata": {},
   "source": [
    "#### To Conclude \n",
    "In the Google Play Store app dataset there are 10841 rows & 13 columns.\n",
    "\n",
    "Amongst them, the 'Review', 'Size', 'Installs', and 'Price' columns have their datatypes as Object.\n",
    "\n",
    "Values of column 'Review' are strings representing as 3.0 M \n",
    "\n",
    "Values of column 'Size' are strings representing size in 'M' as Megabytes, 'k' as kilobytes and also 'Varies with devices'.\n",
    "\n",
    "Values of column 'Installs' are strings representing install amount with symbols such as ',' and '+'.\n",
    "\n",
    "Values of column 'Price' are strings representing price with symbol '$'.\n",
    "\n",
    "Hence, we need to convert these columns into the proper datatype. "
   ]
  },
  {
   "cell_type": "markdown",
   "id": "6bd2cab7-68e9-4bc7-839a-825f2e6e9c07",
   "metadata": {},
   "source": [
    "## Data Cleaning and Processing "
   ]
  },
  {
   "cell_type": "code",
   "execution_count": 25,
   "id": "d918d9fc-7c4a-4423-8d80-7c19329b4618",
   "metadata": {},
   "outputs": [
    {
     "data": {
      "text/plain": [
       "483"
      ]
     },
     "execution_count": 25,
     "metadata": {},
     "output_type": "execute_result"
    }
   ],
   "source": [
    "#Handling duplicated values\n",
    "df.duplicated().sum()"
   ]
  },
  {
   "cell_type": "code",
   "execution_count": 26,
   "id": "9c856379-3fe2-4e90-a8a4-c04476c504e4",
   "metadata": {},
   "outputs": [
    {
     "data": {
      "text/plain": [
       "483"
      ]
     },
     "execution_count": 26,
     "metadata": {},
     "output_type": "execute_result"
    }
   ],
   "source": [
    "df.duplicated().sum()"
   ]
  },
  {
   "cell_type": "code",
   "execution_count": 53,
   "id": "f3b1919d-6300-4933-bfe3-d90a6978e8fb",
   "metadata": {},
   "outputs": [],
   "source": [
    "df = df.drop_duplicates()"
   ]
  },
  {
   "cell_type": "code",
   "execution_count": 55,
   "id": "47de0dd5-9370-4d00-911b-c5da257f9adf",
   "metadata": {},
   "outputs": [
    {
     "data": {
      "text/html": [
       "<div>\n",
       "<style scoped>\n",
       "    .dataframe tbody tr th:only-of-type {\n",
       "        vertical-align: middle;\n",
       "    }\n",
       "\n",
       "    .dataframe tbody tr th {\n",
       "        vertical-align: top;\n",
       "    }\n",
       "\n",
       "    .dataframe thead th {\n",
       "        text-align: right;\n",
       "    }\n",
       "</style>\n",
       "<table border=\"1\" class=\"dataframe\">\n",
       "  <thead>\n",
       "    <tr style=\"text-align: right;\">\n",
       "      <th></th>\n",
       "      <th>App</th>\n",
       "      <th>Category</th>\n",
       "      <th>Rating</th>\n",
       "      <th>Reviews</th>\n",
       "      <th>Size</th>\n",
       "      <th>Installs</th>\n",
       "      <th>Type</th>\n",
       "      <th>Price</th>\n",
       "      <th>Content Rating</th>\n",
       "      <th>Genres</th>\n",
       "      <th>Last Updated</th>\n",
       "      <th>Current Ver</th>\n",
       "      <th>Android Ver</th>\n",
       "    </tr>\n",
       "  </thead>\n",
       "  <tbody>\n",
       "    <tr>\n",
       "      <th>0</th>\n",
       "      <td>Photo Editor &amp; Candy Camera &amp; Grid &amp; ScrapBook</td>\n",
       "      <td>ART_AND_DESIGN</td>\n",
       "      <td>4.1</td>\n",
       "      <td>159</td>\n",
       "      <td>19M</td>\n",
       "      <td>10,000+</td>\n",
       "      <td>Free</td>\n",
       "      <td>0</td>\n",
       "      <td>Everyone</td>\n",
       "      <td>Art &amp; Design</td>\n",
       "      <td>January 7, 2018</td>\n",
       "      <td>1.0.0</td>\n",
       "      <td>4.0.3 and up</td>\n",
       "    </tr>\n",
       "    <tr>\n",
       "      <th>1</th>\n",
       "      <td>Coloring book moana</td>\n",
       "      <td>ART_AND_DESIGN</td>\n",
       "      <td>3.9</td>\n",
       "      <td>967</td>\n",
       "      <td>14M</td>\n",
       "      <td>500,000+</td>\n",
       "      <td>Free</td>\n",
       "      <td>0</td>\n",
       "      <td>Everyone</td>\n",
       "      <td>Art &amp; Design;Pretend Play</td>\n",
       "      <td>January 15, 2018</td>\n",
       "      <td>2.0.0</td>\n",
       "      <td>4.0.3 and up</td>\n",
       "    </tr>\n",
       "    <tr>\n",
       "      <th>2</th>\n",
       "      <td>U Launcher Lite – FREE Live Cool Themes, Hide ...</td>\n",
       "      <td>ART_AND_DESIGN</td>\n",
       "      <td>4.7</td>\n",
       "      <td>87510</td>\n",
       "      <td>8.7M</td>\n",
       "      <td>5,000,000+</td>\n",
       "      <td>Free</td>\n",
       "      <td>0</td>\n",
       "      <td>Everyone</td>\n",
       "      <td>Art &amp; Design</td>\n",
       "      <td>August 1, 2018</td>\n",
       "      <td>1.2.4</td>\n",
       "      <td>4.0.3 and up</td>\n",
       "    </tr>\n",
       "    <tr>\n",
       "      <th>3</th>\n",
       "      <td>Sketch - Draw &amp; Paint</td>\n",
       "      <td>ART_AND_DESIGN</td>\n",
       "      <td>4.5</td>\n",
       "      <td>215644</td>\n",
       "      <td>25M</td>\n",
       "      <td>50,000,000+</td>\n",
       "      <td>Free</td>\n",
       "      <td>0</td>\n",
       "      <td>Teen</td>\n",
       "      <td>Art &amp; Design</td>\n",
       "      <td>June 8, 2018</td>\n",
       "      <td>Varies with device</td>\n",
       "      <td>4.2 and up</td>\n",
       "    </tr>\n",
       "    <tr>\n",
       "      <th>4</th>\n",
       "      <td>Pixel Draw - Number Art Coloring Book</td>\n",
       "      <td>ART_AND_DESIGN</td>\n",
       "      <td>4.3</td>\n",
       "      <td>967</td>\n",
       "      <td>2.8M</td>\n",
       "      <td>100,000+</td>\n",
       "      <td>Free</td>\n",
       "      <td>0</td>\n",
       "      <td>Everyone</td>\n",
       "      <td>Art &amp; Design;Creativity</td>\n",
       "      <td>June 20, 2018</td>\n",
       "      <td>1.1</td>\n",
       "      <td>4.4 and up</td>\n",
       "    </tr>\n",
       "    <tr>\n",
       "      <th>...</th>\n",
       "      <td>...</td>\n",
       "      <td>...</td>\n",
       "      <td>...</td>\n",
       "      <td>...</td>\n",
       "      <td>...</td>\n",
       "      <td>...</td>\n",
       "      <td>...</td>\n",
       "      <td>...</td>\n",
       "      <td>...</td>\n",
       "      <td>...</td>\n",
       "      <td>...</td>\n",
       "      <td>...</td>\n",
       "      <td>...</td>\n",
       "    </tr>\n",
       "    <tr>\n",
       "      <th>10836</th>\n",
       "      <td>Sya9a Maroc - FR</td>\n",
       "      <td>FAMILY</td>\n",
       "      <td>4.5</td>\n",
       "      <td>38</td>\n",
       "      <td>53M</td>\n",
       "      <td>5,000+</td>\n",
       "      <td>Free</td>\n",
       "      <td>0</td>\n",
       "      <td>Everyone</td>\n",
       "      <td>Education</td>\n",
       "      <td>July 25, 2017</td>\n",
       "      <td>1.48</td>\n",
       "      <td>4.1 and up</td>\n",
       "    </tr>\n",
       "    <tr>\n",
       "      <th>10837</th>\n",
       "      <td>Fr. Mike Schmitz Audio Teachings</td>\n",
       "      <td>FAMILY</td>\n",
       "      <td>5.0</td>\n",
       "      <td>4</td>\n",
       "      <td>3.6M</td>\n",
       "      <td>100+</td>\n",
       "      <td>Free</td>\n",
       "      <td>0</td>\n",
       "      <td>Everyone</td>\n",
       "      <td>Education</td>\n",
       "      <td>July 6, 2018</td>\n",
       "      <td>1.0</td>\n",
       "      <td>4.1 and up</td>\n",
       "    </tr>\n",
       "    <tr>\n",
       "      <th>10838</th>\n",
       "      <td>Parkinson Exercices FR</td>\n",
       "      <td>MEDICAL</td>\n",
       "      <td>4.3</td>\n",
       "      <td>3</td>\n",
       "      <td>9.5M</td>\n",
       "      <td>1,000+</td>\n",
       "      <td>Free</td>\n",
       "      <td>0</td>\n",
       "      <td>Everyone</td>\n",
       "      <td>Medical</td>\n",
       "      <td>January 20, 2017</td>\n",
       "      <td>1.0</td>\n",
       "      <td>2.2 and up</td>\n",
       "    </tr>\n",
       "    <tr>\n",
       "      <th>10839</th>\n",
       "      <td>The SCP Foundation DB fr nn5n</td>\n",
       "      <td>BOOKS_AND_REFERENCE</td>\n",
       "      <td>4.5</td>\n",
       "      <td>114</td>\n",
       "      <td>Varies with device</td>\n",
       "      <td>1,000+</td>\n",
       "      <td>Free</td>\n",
       "      <td>0</td>\n",
       "      <td>Mature 17+</td>\n",
       "      <td>Books &amp; Reference</td>\n",
       "      <td>January 19, 2015</td>\n",
       "      <td>Varies with device</td>\n",
       "      <td>Varies with device</td>\n",
       "    </tr>\n",
       "    <tr>\n",
       "      <th>10840</th>\n",
       "      <td>iHoroscope - 2018 Daily Horoscope &amp; Astrology</td>\n",
       "      <td>LIFESTYLE</td>\n",
       "      <td>4.5</td>\n",
       "      <td>398307</td>\n",
       "      <td>19M</td>\n",
       "      <td>10,000,000+</td>\n",
       "      <td>Free</td>\n",
       "      <td>0</td>\n",
       "      <td>Everyone</td>\n",
       "      <td>Lifestyle</td>\n",
       "      <td>July 25, 2018</td>\n",
       "      <td>Varies with device</td>\n",
       "      <td>Varies with device</td>\n",
       "    </tr>\n",
       "  </tbody>\n",
       "</table>\n",
       "<p>10356 rows × 13 columns</p>\n",
       "</div>"
      ],
      "text/plain": [
       "                                                     App             Category  \\\n",
       "0         Photo Editor & Candy Camera & Grid & ScrapBook       ART_AND_DESIGN   \n",
       "1                                    Coloring book moana       ART_AND_DESIGN   \n",
       "2      U Launcher Lite – FREE Live Cool Themes, Hide ...       ART_AND_DESIGN   \n",
       "3                                  Sketch - Draw & Paint       ART_AND_DESIGN   \n",
       "4                  Pixel Draw - Number Art Coloring Book       ART_AND_DESIGN   \n",
       "...                                                  ...                  ...   \n",
       "10836                                   Sya9a Maroc - FR               FAMILY   \n",
       "10837                   Fr. Mike Schmitz Audio Teachings               FAMILY   \n",
       "10838                             Parkinson Exercices FR              MEDICAL   \n",
       "10839                      The SCP Foundation DB fr nn5n  BOOKS_AND_REFERENCE   \n",
       "10840      iHoroscope - 2018 Daily Horoscope & Astrology            LIFESTYLE   \n",
       "\n",
       "       Rating Reviews                Size     Installs  Type Price  \\\n",
       "0         4.1     159                 19M      10,000+  Free     0   \n",
       "1         3.9     967                 14M     500,000+  Free     0   \n",
       "2         4.7   87510                8.7M   5,000,000+  Free     0   \n",
       "3         4.5  215644                 25M  50,000,000+  Free     0   \n",
       "4         4.3     967                2.8M     100,000+  Free     0   \n",
       "...       ...     ...                 ...          ...   ...   ...   \n",
       "10836     4.5      38                 53M       5,000+  Free     0   \n",
       "10837     5.0       4                3.6M         100+  Free     0   \n",
       "10838     4.3       3                9.5M       1,000+  Free     0   \n",
       "10839     4.5     114  Varies with device       1,000+  Free     0   \n",
       "10840     4.5  398307                 19M  10,000,000+  Free     0   \n",
       "\n",
       "      Content Rating                     Genres      Last Updated  \\\n",
       "0           Everyone               Art & Design   January 7, 2018   \n",
       "1           Everyone  Art & Design;Pretend Play  January 15, 2018   \n",
       "2           Everyone               Art & Design    August 1, 2018   \n",
       "3               Teen               Art & Design      June 8, 2018   \n",
       "4           Everyone    Art & Design;Creativity     June 20, 2018   \n",
       "...              ...                        ...               ...   \n",
       "10836       Everyone                  Education     July 25, 2017   \n",
       "10837       Everyone                  Education      July 6, 2018   \n",
       "10838       Everyone                    Medical  January 20, 2017   \n",
       "10839     Mature 17+          Books & Reference  January 19, 2015   \n",
       "10840       Everyone                  Lifestyle     July 25, 2018   \n",
       "\n",
       "              Current Ver         Android Ver  \n",
       "0                   1.0.0        4.0.3 and up  \n",
       "1                   2.0.0        4.0.3 and up  \n",
       "2                   1.2.4        4.0.3 and up  \n",
       "3      Varies with device          4.2 and up  \n",
       "4                     1.1          4.4 and up  \n",
       "...                   ...                 ...  \n",
       "10836                1.48          4.1 and up  \n",
       "10837                 1.0          4.1 and up  \n",
       "10838                 1.0          2.2 and up  \n",
       "10839  Varies with device  Varies with device  \n",
       "10840  Varies with device  Varies with device  \n",
       "\n",
       "[10356 rows x 13 columns]"
      ]
     },
     "execution_count": 55,
     "metadata": {},
     "output_type": "execute_result"
    }
   ],
   "source": [
    "df"
   ]
  },
  {
   "cell_type": "code",
   "execution_count": 29,
   "id": "539fbecd-c153-4248-be2d-a6917c144941",
   "metadata": {},
   "outputs": [
    {
     "data": {
      "text/plain": [
       "0"
      ]
     },
     "execution_count": 29,
     "metadata": {},
     "output_type": "execute_result"
    }
   ],
   "source": [
    "df.duplicated().sum()"
   ]
  },
  {
   "cell_type": "code",
   "execution_count": 57,
   "id": "04c46995-269e-4ad3-9a82-39c6b1db4119",
   "metadata": {},
   "outputs": [
    {
     "data": {
      "text/plain": [
       "App               0\n",
       "Category          0\n",
       "Rating            0\n",
       "Reviews           0\n",
       "Size              0\n",
       "Installs          0\n",
       "Type              0\n",
       "Price             0\n",
       "Content Rating    0\n",
       "Genres            0\n",
       "Last Updated      0\n",
       "Current Ver       8\n",
       "Android Ver       2\n",
       "dtype: int64"
      ]
     },
     "execution_count": 57,
     "metadata": {},
     "output_type": "execute_result"
    }
   ],
   "source": [
    "df.isna().sum()"
   ]
  },
  {
   "cell_type": "markdown",
   "id": "2d4b1251-2f89-431a-a46f-7d5e8322ffa1",
   "metadata": {},
   "source": [
    "For Rating column we need to replace the NaN values with median values as we cant drop large number of values \n"
   ]
  },
  {
   "cell_type": "code",
   "execution_count": 32,
   "id": "0b1c0e02-541d-4d97-ab90-9fc73618a4a3",
   "metadata": {},
   "outputs": [],
   "source": [
    "df['Rating'] = df['Rating'].fillna(df['Rating'].median()).astype(float)"
   ]
  },
  {
   "cell_type": "code",
   "execution_count": 60,
   "id": "86727c37-4f20-456c-8cdf-c52826ede4df",
   "metadata": {},
   "outputs": [
    {
     "data": {
      "text/plain": [
       "App               0\n",
       "Category          0\n",
       "Rating            0\n",
       "Reviews           0\n",
       "Size              0\n",
       "Installs          0\n",
       "Type              0\n",
       "Price             0\n",
       "Content Rating    0\n",
       "Genres            0\n",
       "Last Updated      0\n",
       "Current Ver       8\n",
       "Android Ver       2\n",
       "dtype: int64"
      ]
     },
     "execution_count": 60,
     "metadata": {},
     "output_type": "execute_result"
    }
   ],
   "source": [
    "df.isna().sum()"
   ]
  },
  {
   "cell_type": "code",
   "execution_count": 62,
   "id": "8e6b7be8-d423-4a66-a5cf-7cda63cb5e65",
   "metadata": {},
   "outputs": [
    {
     "data": {
      "text/plain": [
       "dtype('float64')"
      ]
     },
     "execution_count": 62,
     "metadata": {},
     "output_type": "execute_result"
    }
   ],
   "source": [
    "df['Rating'].dtype"
   ]
  },
  {
   "cell_type": "markdown",
   "id": "8e276462-3293-4629-b792-93c3aa5056df",
   "metadata": {},
   "source": [
    "For Type column we need to drop NaN values "
   ]
  },
  {
   "cell_type": "code",
   "execution_count": 64,
   "id": "88b26750-859b-4b17-a339-e2db936b328b",
   "metadata": {},
   "outputs": [],
   "source": [
    "df.dropna(subset=['Type'], inplace = True) "
   ]
  },
  {
   "cell_type": "code",
   "execution_count": 66,
   "id": "496c2cf0-59bb-4c5d-a12e-28a4037faccc",
   "metadata": {},
   "outputs": [
    {
     "data": {
      "text/plain": [
       "App               0\n",
       "Category          0\n",
       "Rating            0\n",
       "Reviews           0\n",
       "Size              0\n",
       "Installs          0\n",
       "Type              0\n",
       "Price             0\n",
       "Content Rating    0\n",
       "Genres            0\n",
       "Last Updated      0\n",
       "Current Ver       8\n",
       "Android Ver       2\n",
       "dtype: int64"
      ]
     },
     "execution_count": 66,
     "metadata": {},
     "output_type": "execute_result"
    }
   ],
   "source": [
    "df.isna().sum()"
   ]
  },
  {
   "cell_type": "code",
   "execution_count": 38,
   "id": "03745c3f-0b91-4866-90bd-6651eae69471",
   "metadata": {},
   "outputs": [],
   "source": [
    "df.dropna(subset=['Content Rating'], inplace=True)"
   ]
  },
  {
   "cell_type": "code",
   "execution_count": 39,
   "id": "9889c0ec-7a8e-4fab-a197-592e70219acc",
   "metadata": {},
   "outputs": [
    {
     "data": {
      "text/plain": [
       "App               0\n",
       "Category          0\n",
       "Rating            0\n",
       "Reviews           0\n",
       "Size              0\n",
       "Installs          0\n",
       "Type              0\n",
       "Price             0\n",
       "Content Rating    0\n",
       "Genres            0\n",
       "Last Updated      0\n",
       "Current Ver       8\n",
       "Android Ver       2\n",
       "dtype: int64"
      ]
     },
     "execution_count": 39,
     "metadata": {},
     "output_type": "execute_result"
    }
   ],
   "source": [
    "df.isna().sum()"
   ]
  },
  {
   "cell_type": "markdown",
   "id": "76aa1df3-f61e-4b19-8677-673bf5fe6fab",
   "metadata": {},
   "source": [
    "We have dropped Nan values"
   ]
  },
  {
   "cell_type": "markdown",
   "id": "f777f398-9fac-45ba-9987-70762908429c",
   "metadata": {},
   "source": [
    "Changing datatype of Reviews column from object to float"
   ]
  },
  {
   "cell_type": "code",
   "execution_count": 68,
   "id": "12a6611d-07f3-4afb-bbc5-60ae92e21b5a",
   "metadata": {},
   "outputs": [],
   "source": [
    "df['Reviews']=df['Reviews'].astype(str).replace(\"M\", \"\").astype(float)*1_000_000 #one line code"
   ]
  },
  {
   "cell_type": "code",
   "execution_count": 70,
   "id": "9f0b512a-5d1a-4e25-a9f5-eac53c4a4e56",
   "metadata": {},
   "outputs": [
    {
     "data": {
      "text/plain": [
       "0        1.590000e+08\n",
       "1        9.670000e+08\n",
       "2        8.751000e+10\n",
       "3        2.156440e+11\n",
       "4        9.670000e+08\n",
       "             ...     \n",
       "10836    3.800000e+07\n",
       "10837    4.000000e+06\n",
       "10838    3.000000e+06\n",
       "10839    1.140000e+08\n",
       "10840    3.983070e+11\n",
       "Name: Reviews, Length: 10356, dtype: float64"
      ]
     },
     "execution_count": 70,
     "metadata": {},
     "output_type": "execute_result"
    }
   ],
   "source": [
    "df.Reviews"
   ]
  },
  {
   "cell_type": "code",
   "execution_count": 72,
   "id": "dd3f8409-91d3-44f4-86c9-d0d1f9f93934",
   "metadata": {},
   "outputs": [],
   "source": [
    "def clean_reviews(reviews_list):\n",
    "    \"\"\"\n",
    "    Replace 'M' in reviews with its numeric value (million).\n",
    "    \"\"\"\n",
    "    cleaned_data = []\n",
    "    for review in reviews_list:\n",
    "        review = str(review)  # Convert to string to avoid type errors\n",
    "        if 'M' in review:\n",
    "            review = review.replace('M', '')  # Remove 'M'\n",
    "            review = float(review) * 1_000_000  # Convert to number\n",
    "        cleaned_data.append(float(review))  # Ensure all values are floats\n",
    "    return cleaned_data\n",
    "\n",
    "# Apply function correctly\n",
    "df['Reviews'] = clean_reviews(df['Reviews'].tolist())\n",
    "\n",
    "# Convert to float (in case some values are still strings)\n",
    "df['Reviews'] = df['Reviews'].astype(float)\n"
   ]
  },
  {
   "cell_type": "code",
   "execution_count": 74,
   "id": "baade4ff-3e03-43f0-8609-64a97b941e3f",
   "metadata": {},
   "outputs": [
    {
     "data": {
      "text/plain": [
       "App                object\n",
       "Category           object\n",
       "Rating            float64\n",
       "Reviews           float64\n",
       "Size               object\n",
       "Installs           object\n",
       "Type               object\n",
       "Price              object\n",
       "Content Rating     object\n",
       "Genres             object\n",
       "Last Updated       object\n",
       "Current Ver        object\n",
       "Android Ver        object\n",
       "dtype: object"
      ]
     },
     "execution_count": 74,
     "metadata": {},
     "output_type": "execute_result"
    }
   ],
   "source": [
    "df.dtypes"
   ]
  },
  {
   "cell_type": "code",
   "execution_count": 76,
   "id": "aa5abbaf-ea36-4906-ae9c-91e4f5609f1d",
   "metadata": {},
   "outputs": [],
   "source": [
    "#Changing data type of size column \n",
    "def size_process(item):\n",
    "    if str(item)[-1] == \"M\":\n",
    "        res = float(str(item).replace(\"M\", \"\"))\n",
    "        res = res * 1024\n",
    "        return res\n",
    "    elif str(item)[-1] == \"k\":\n",
    "        res = float(str(item).replace(\"k\", \"\"))\n",
    "        return res\n",
    "    else:\n",
    "        return str(np.NaN)"
   ]
  },
  {
   "cell_type": "code",
   "execution_count": 78,
   "id": "079a86f0-9375-4771-951f-0187a190b563",
   "metadata": {},
   "outputs": [],
   "source": [
    "df['Size']=df['Size'].apply(size_process)"
   ]
  },
  {
   "cell_type": "code",
   "execution_count": 80,
   "id": "cdf82092-e035-409f-b847-37c58c583182",
   "metadata": {},
   "outputs": [],
   "source": [
    "df['Size']=df['Size'].astype(float)"
   ]
  },
  {
   "cell_type": "code",
   "execution_count": 82,
   "id": "7c2b702c-d8b0-47bf-97b5-ba8a135bb11b",
   "metadata": {},
   "outputs": [
    {
     "data": {
      "text/plain": [
       "dtype('float64')"
      ]
     },
     "execution_count": 82,
     "metadata": {},
     "output_type": "execute_result"
    }
   ],
   "source": [
    "df['Size'].dtype"
   ]
  },
  {
   "cell_type": "code",
   "execution_count": 84,
   "id": "740c7e4c-b1e6-497d-b595-ce287258d276",
   "metadata": {},
   "outputs": [],
   "source": [
    "#Alternative method\n",
    "df['Size'] = df['Size'].astype(str).str.replace('M', '').astype(float) * 1024\n",
    "df['Size'] = df['Size'].astype(str).str.replace('K', '').astype(float)\n"
   ]
  },
  {
   "cell_type": "code",
   "execution_count": 86,
   "id": "eb6dfa11-1cc3-423d-90ae-04472f49122e",
   "metadata": {},
   "outputs": [
    {
     "data": {
      "text/plain": [
       "dtype('float64')"
      ]
     },
     "execution_count": 86,
     "metadata": {},
     "output_type": "execute_result"
    }
   ],
   "source": [
    "df.Size.dtype"
   ]
  },
  {
   "cell_type": "code",
   "execution_count": 88,
   "id": "41318d45-3bec-4112-bcb5-2a52287db2df",
   "metadata": {},
   "outputs": [
    {
     "data": {
      "text/plain": [
       "App                object\n",
       "Category           object\n",
       "Rating            float64\n",
       "Reviews           float64\n",
       "Size              float64\n",
       "Installs           object\n",
       "Type               object\n",
       "Price              object\n",
       "Content Rating     object\n",
       "Genres             object\n",
       "Last Updated       object\n",
       "Current Ver        object\n",
       "Android Ver        object\n",
       "dtype: object"
      ]
     },
     "execution_count": 88,
     "metadata": {},
     "output_type": "execute_result"
    }
   ],
   "source": [
    "df.dtypes  #Size column dtypes chnaged to float from object"
   ]
  },
  {
   "cell_type": "code",
   "execution_count": 93,
   "id": "ac8108f1-e514-47d0-9d78-c72cd708fa03",
   "metadata": {},
   "outputs": [],
   "source": [
    "#Chnaging the column type of Installs column\n",
    "df['Installs'] = pd.to_numeric(df['Installs'].astype(str).str.replace(r'[\\+,]', '', regex=True), errors='coerce')\n"
   ]
  },
  {
   "cell_type": "markdown",
   "id": "12593c75-6bd2-4909-87ee-24eb815f0d18",
   "metadata": {},
   "source": [
    "This method works efficiently for handling NaN values and is idealfor large dataset"
   ]
  },
  {
   "cell_type": "code",
   "execution_count": 95,
   "id": "68fbd20d-5caa-41e3-b7b6-b5d202e1f13d",
   "metadata": {},
   "outputs": [
    {
     "data": {
      "text/plain": [
       "dtype('int64')"
      ]
     },
     "execution_count": 95,
     "metadata": {},
     "output_type": "execute_result"
    }
   ],
   "source": [
    "df['Installs'].dtype"
   ]
  },
  {
   "cell_type": "code",
   "execution_count": 97,
   "id": "e3b8de7d-519f-4f63-85c4-d3eb1ed20fe6",
   "metadata": {},
   "outputs": [
    {
     "data": {
      "text/plain": [
       "App                object\n",
       "Category           object\n",
       "Rating            float64\n",
       "Reviews           float64\n",
       "Size              float64\n",
       "Installs            int64\n",
       "Type               object\n",
       "Price              object\n",
       "Content Rating     object\n",
       "Genres             object\n",
       "Last Updated       object\n",
       "Current Ver        object\n",
       "Android Ver        object\n",
       "dtype: object"
      ]
     },
     "execution_count": 97,
     "metadata": {},
     "output_type": "execute_result"
    }
   ],
   "source": [
    "df.dtypes"
   ]
  },
  {
   "cell_type": "code",
   "execution_count": 99,
   "id": "3bc53540-e380-4b69-977e-b3a3fa38d651",
   "metadata": {},
   "outputs": [],
   "source": [
    "#Chnaging the price column datatype\n",
    "df['Price'] = pd.to_numeric(df['Price'].astype(str).str.replace('$', ''), errors='coerce')\n",
    "\n",
    "#here we didn't use regex=true\n",
    "#We need regex=True only when using regular expressions (pattern-based replacements).\n",
    "#Example: If we were replacing multiple patterns ($,, whitespace, etc.), we would use regex=True:"
   ]
  },
  {
   "cell_type": "code",
   "execution_count": 101,
   "id": "2086cb8d-efb2-4ea9-a4fc-372f53a74bff",
   "metadata": {},
   "outputs": [],
   "source": [
    "#ALTERNATIVE METHOD\n",
    "def clean_prices(prices_list):\n",
    "    cleaned_data = []\n",
    "    for price in prices_list:\n",
    "        price = str(price).replace('$', '')  # Ensure it's a string and remove '$'\n",
    "        cleaned_data.append(price)\n",
    "    return cleaned_data\n",
    "\n",
    "# Apply the function and convert to float\n",
    "df['Price'] = clean_prices(df['Price'].astype(str))\n",
    "df['Price'] = df['Price'].astype(float)\n"
   ]
  },
  {
   "cell_type": "code",
   "execution_count": 103,
   "id": "62e832e0-4557-457e-9489-c882a8889a5e",
   "metadata": {},
   "outputs": [
    {
     "data": {
      "text/plain": [
       "dtype('float64')"
      ]
     },
     "execution_count": 103,
     "metadata": {},
     "output_type": "execute_result"
    }
   ],
   "source": [
    "df.Price.dtype"
   ]
  },
  {
   "cell_type": "code",
   "execution_count": 105,
   "id": "7e50941e-c6a5-47e2-8ada-580551684e2d",
   "metadata": {},
   "outputs": [
    {
     "data": {
      "text/plain": [
       "App                object\n",
       "Category           object\n",
       "Rating            float64\n",
       "Reviews           float64\n",
       "Size              float64\n",
       "Installs            int64\n",
       "Type               object\n",
       "Price             float64\n",
       "Content Rating     object\n",
       "Genres             object\n",
       "Last Updated       object\n",
       "Current Ver        object\n",
       "Android Ver        object\n",
       "dtype: object"
      ]
     },
     "execution_count": 105,
     "metadata": {},
     "output_type": "execute_result"
    }
   ],
   "source": [
    "df.dtypes"
   ]
  },
  {
   "cell_type": "markdown",
   "id": "0c370981-aba2-4c2e-972c-202dacb4b5ae",
   "metadata": {},
   "source": [
    "The datatype of columns have been replaced correctly "
   ]
  },
  {
   "cell_type": "markdown",
   "id": "79b30c58-309b-4a5c-a060-8579675e6c0f",
   "metadata": {},
   "source": [
    "## Exploratory Data Analysis"
   ]
  },
  {
   "cell_type": "markdown",
   "id": "93e3525d-2146-49a3-99e8-53fb4c8776e6",
   "metadata": {},
   "source": [
    "### General Dataset Overview"
   ]
  },
  {
   "cell_type": "code",
   "execution_count": 112,
   "id": "de6e6665-d4d4-4883-8793-d13fd978c144",
   "metadata": {},
   "outputs": [
    {
     "name": "stdout",
     "output_type": "stream",
     "text": [
      "Type\n",
      "Free    9591\n",
      "Paid     765\n",
      "Name: count, dtype: int64\n"
     ]
    }
   ],
   "source": [
    "#Count the number of free and paid apps\n",
    "type_counts=df['Type'].value_counts()\n",
    "print(type_counts)"
   ]
  },
  {
   "cell_type": "code",
   "execution_count": 122,
   "id": "629ff53f-3918-42c0-9ec7-b6150aceaea2",
   "metadata": {},
   "outputs": [
    {
     "data": {
      "image/png": "[encoded data removed]",
      "text/plain": [
       "<Figure size 600x400 with 1 Axes>"
      ]
     },
     "metadata": {},
     "output_type": "display_data"
    }
   ],
   "source": [
    "# Define categories and counts\n",
    "categories = type_counts.index  # ['Free', 'Paid']\n",
    "counts = type_counts.values  # [8000, 2000]\n",
    "\n",
    "# Create bar chart\n",
    "plt.figure(figsize=(6, 4))\n",
    "plt.bar(categories, counts, color=[\"green\", \"orange\"])\n",
    "\n",
    "# Add labels and title\n",
    "plt.xlabel(\"App Type\")\n",
    "plt.ylabel(\"Number of Apps\")\n",
    "plt.title(\"Free vs. Paid Apps\")\n",
    "\n",
    "# Show the plot\n",
    "plt.show()\n"
   ]
  },
  {
   "cell_type": "markdown",
   "id": "bdb64ce4-cead-42f0-ba9c-80833dc6262a",
   "metadata": {},
   "source": [
    "The dataset shows that **80% of the apps are free (8000 apps), while 20% are paid (2000 apps). This indicates that most developers prefer the freemium model, relying on ads and in-app purchases instead of direct sales."
   ]
  },
  {
   "cell_type": "code",
   "execution_count": 142,
   "id": "2ff2436a-2c1c-4688-a054-dd5aee7d91ed",
   "metadata": {},
   "outputs": [
    {
     "name": "stdout",
     "output_type": "stream",
     "text": [
      "Category\n",
      "FAMILY             1942\n",
      "GAME               1121\n",
      "TOOLS               843\n",
      "BUSINESS            427\n",
      "MEDICAL             408\n",
      "PRODUCTIVITY        407\n",
      "PERSONALIZATION     388\n",
      "LIFESTYLE           373\n",
      "COMMUNICATION       366\n",
      "FINANCE             360\n",
      "Name: count, dtype: int64\n"
     ]
    }
   ],
   "source": [
    "#Most Common app categories\n",
    "\n",
    "category_counts=df['Category'].value_counts()\n",
    "print(category_counts.head(10)) #Show top 10 common categories"
   ]
  },
  {
   "cell_type": "code",
   "execution_count": 147,
   "id": "12f8062b-7d85-4a17-8cb4-8dcd7c8f9e71",
   "metadata": {},
   "outputs": [
    {
     "data": {
      "image/png": "[encoded data removed]",
      "text/plain": [
       "<Figure size 1200x600 with 1 Axes>"
      ]
     },
     "metadata": {},
     "output_type": "display_data"
    }
   ],
   "source": [
    "\n",
    "\n",
    "# Set figure size\n",
    "plt.figure(figsize=(12, 6))\n",
    "\n",
    "# Create a horizontal bar chart for the top 10 categories\n",
    "sns.barplot(y=category_counts.index[:10], x=category_counts.values[:10], palette=\"viridis\")\n",
    "\n",
    "# Add labels and title\n",
    "plt.xlabel(\"Number of Apps\")\n",
    "plt.ylabel(\"Category\")\n",
    "plt.title(\"Top 10 Most Common App Categories\")\n",
    "\n",
    "# Show the plot\n",
    "plt.show()\n"
   ]
  },
  {
   "cell_type": "markdown",
   "id": "9c276ca0-3782-49d2-bc24-3240d31692d4",
   "metadata": {},
   "source": [
    "The **FAMILY** category is the most common, with **1,942 apps**, indicating a strong focus on family-oriented applications. **GAME** apps are the second most popular (**1,121 apps**), showing high demand for entertainment. Utility-based categories like **TOOLS (843 apps)** and **BUSINESS (427 apps)** also have a significant presence. This suggests that while entertainment apps dominate, productivity and professional tools remain essential in the market."
   ]
  },
  {
   "cell_type": "code",
   "execution_count": 151,
   "id": "816b8243-6115-4340-b11f-5b36dbbe6f58",
   "metadata": {},
   "outputs": [
    {
     "name": "stdout",
     "output_type": "stream",
     "text": [
      "count    10356.000000\n",
      "mean         4.203727\n",
      "std          0.485617\n",
      "min          1.000000\n",
      "25%          4.100000\n",
      "50%          4.300000\n",
      "75%          4.500000\n",
      "max          5.000000\n",
      "Name: Rating, dtype: float64\n",
      "0\n"
     ]
    }
   ],
   "source": [
    "#Distribution of app rating\n",
    "\n",
    "print(df['Rating'].describe())\n",
    "print(df['Rating'].isnull().sum())"
   ]
  },
  {
   "cell_type": "code",
   "execution_count": 157,
   "id": "942494a5-c1a0-439c-9c04-ce9933f063f8",
   "metadata": {},
   "outputs": [
    {
     "data": {
      "image/png": "[encoded data removed]",
      "text/plain": [
       "<Figure size 1200x600 with 1 Axes>"
      ]
     },
     "metadata": {},
     "output_type": "display_data"
    }
   ],
   "source": [
    "plt.figure(figsize=(12,6))\n",
    "sns.histplot(df['Rating'].dropna(), bins=20, kde=True, color='red')\n",
    "\n",
    "plt.xlabel('Ratingsof apps')\n",
    "plt.ylabel('Number of apps')\n",
    "plt.title('Distribution of app rating')\n",
    "plt.show()"
   ]
  },
  {
   "cell_type": "markdown",
   "id": "cb0555f0-7831-4f19-a883-90f36ccd47d6",
   "metadata": {},
   "source": [
    "The dataset contains **10,356 apps** with recorded ratings, with an average rating of **4.20**, indicating that most users provide positive feedback. The **minimum rating is 1.0**, while the **maximum is 5.0**, covering the full range. The data is **right-skewed**, with a majority of apps rated **above 4.0**."
   ]
  },
  {
   "cell_type": "code",
   "execution_count": 164,
   "id": "0490d778-ba1d-46d1-a261-6864fb1f5cd0",
   "metadata": {},
   "outputs": [
    {
     "name": "stdout",
     "output_type": "stream",
     "text": [
      "                               App       Category    Installs\n",
      "341                       Hangouts  COMMUNICATION  1000000000\n",
      "3928                       YouTube  VIDEO_PLAYERS  1000000000\n",
      "451                          Gmail  COMMUNICATION  1000000000\n",
      "3996  Google Chrome: Fast & Secure  COMMUNICATION  1000000000\n",
      "1700                Subway Surfers           GAME  1000000000\n",
      "3454                  Google Drive   PRODUCTIVITY  1000000000\n",
      "2808                 Google Photos    PHOTOGRAPHY  1000000000\n",
      "865              Google Play Games  ENTERTAINMENT  1000000000\n",
      "2853                 Google Photos    PHOTOGRAPHY  1000000000\n",
      "411   Google Chrome: Fast & Secure  COMMUNICATION  1000000000\n"
     ]
    }
   ],
   "source": [
    "#Most downloaded apps\n",
    "\n",
    "top_downloaded_apps=df.sort_values(by='Installs', ascending=False)\n",
    "print(top_downloaded_apps[[\"App\",\"Category\",\"Installs\"]].head(10))\n"
   ]
  },
  {
   "cell_type": "code",
   "execution_count": 190,
   "id": "2186a4e4-2542-4137-95a8-f1c9b4b82e43",
   "metadata": {},
   "outputs": [
    {
     "data": {
      "image/png": "[encoded data removed]",
      "text/plain": [
       "<Figure size 1200x600 with 1 Axes>"
      ]
     },
     "metadata": {},
     "output_type": "display_data"
    }
   ],
   "source": [
    "\n",
    "top_10_apps = top_downloaded_apps.head(10)\n",
    "plt.figure(figsize=(12, 6))\n",
    "sns.barplot(y=top_10_apps[\"App\"], x=top_10_apps[\"Installs\"], palette=\"magma\")\n",
    "plt.xlabel(\"Number of Installs\")\n",
    "plt.ylabel(\"App Name\")\n",
    "plt.title(\"Top 10 Most Downloaded Apps\")\n",
    "plt.show()\n"
   ]
  },
  {
   "cell_type": "markdown",
   "id": "201e6423-2ea9-4b4a-b0fc-0bb1f473a9eb",
   "metadata": {},
   "source": [
    "The darker color represent the apps which are mostly downloaded.\n",
    "The bar graph of the top 10 most downloaded apps highlights a clear dominance of Google-owned applications, with multiple entries such as YouTube, Gmail, Chrome, Google Drive, Google Photos, and Google Play Games, all exceeding 1 billion installs. The bars representing these apps are relatively equal in length, indicating that their downloads are within the same range. Subway Surfers is the only game among them, showcasing its massive popularity in the mobile gaming industry.\n",
    "From a visual perspective, the uniformity in bar length suggests that these apps have similar download figures, reinforcing their status as essential tools for communication, entertainment, and productivity."
   ]
  },
  {
   "cell_type": "code",
   "execution_count": 213,
   "id": "fb1d408f-677e-46fc-bcca-1444314c2faa",
   "metadata": {},
   "outputs": [
    {
     "data": {
      "image/png": "[encoded data removed]",
      "text/plain": [
       "<Figure size 1000x600 with 1 Axes>"
      ]
     },
     "metadata": {},
     "output_type": "display_data"
    }
   ],
   "source": [
    "#Relationship between app and installs\n",
    "\n",
    "plt.figure(figsize=(10,6))\n",
    "\n",
    "sns.scatterplot(x=df['Rating'], y=df['Installs'], alpha=0.5, color='violet')\n",
    "\n",
    "plt.title('relationship between app ratings and install number')\n",
    "plt.xlabel('App rating')\n",
    "plt.ylabel('Installs')\n",
    "plt.show()"
   ]
  },
  {
   "cell_type": "markdown",
   "id": "e60fb25e-3be6-444d-8b5a-8b9d5325514a",
   "metadata": {},
   "source": [
    "The scatter plot visualizes the relationship between app ratings and the number of installs. It shows that most apps have ratings between **4.0 and 5.0**, with a concentration of highly installed apps in this range. Apps with **billions of installs** generally maintain high ratings, suggesting that popular apps receive positive user feedback. In contrast, apps with **fewer installs** are scattered across all rating values, indicating that less popular apps receive varied reviews. A few exceptions exist where apps with **lower ratings (below 3.0) have high installs**, which could be due to pre-installed apps, essential services, or controversial applications. Overall, the trend suggests that **higher-rated apps tend to have more installs**, but external factors can influence downloads regardless of rating.\n"
   ]
  },
  {
   "cell_type": "code",
   "execution_count": 222,
   "id": "56b15cc8-2d6d-4ecf-82d4-ae4b5f52d7a8",
   "metadata": {},
   "outputs": [
    {
     "name": "stdout",
     "output_type": "stream",
     "text": [
      "Type\n",
      "Free    4.198509\n",
      "Paid    4.269150\n",
      "Name: Rating, dtype: float64\n"
     ]
    }
   ],
   "source": [
    "#Are paid apps rated higher then free apps\n",
    "\n",
    "# Group by 'Type' (Free/Paid) and calculate the mean rating\n",
    "avg_rating_by_type = df.groupby(\"Type\")[\"Rating\"].mean()\n",
    "print(avg_rating_by_type)\n"
   ]
  },
  {
   "cell_type": "code",
   "execution_count": 242,
   "id": "2eadd334-4253-46cf-9fca-4945e4d3bd50",
   "metadata": {},
   "outputs": [
    {
     "data": {
      "image/png": "[encoded data removed]",
      "text/plain": [
       "<Figure size 600x400 with 1 Axes>"
      ]
     },
     "metadata": {},
     "output_type": "display_data"
    }
   ],
   "source": [
    "plt.figure(figsize=(6,4))\n",
    "\n",
    "\n",
    "sns.boxplot(x=df[\"Type\"], y=df[\"Rating\"], palette=[\"green\", \"orange\"])\n",
    "plt.title('Distribution of ratings:Free v/s Paid')\n",
    "plt.xlabel('type of app')\n",
    "plt.ylabel('Rating of app')\n",
    "plt.show()"
   ]
  },
  {
   "cell_type": "markdown",
   "id": "8cef5f96-2c1c-4f07-8fb0-8a45c8507fc1",
   "metadata": {},
   "source": [
    "The boxplot compares the distribution of ratings between free and paid apps. \n",
    "\n",
    "From the visualization, we observe that paid apps tend to have a slightly higher median rating compared to free apps, indicating that users generally rate paid apps more favorably. The interquartile range (IQR) shows that most app ratings, whether free or paid, fall between 4.0 and 4.7, but free apps exhibit a slightly larger spread, suggesting more variation in user satisfaction.\n",
    "\n",
    "One significant observation is the presence of outliers. Free apps have a greater number of low-rated outliers, with some ratings dropping as low as 1.0, whereas paid apps have fewer extreme outliers. This implies that free apps may have quality inconsistencies, possibly due to issues such as excessive ads, limited features, or performance problems. \n",
    "\n",
    "In contrast, paid apps appear to maintain a more stable and consistently high rating, likely because users have higher expectations when they purchase an app, encouraging developers to deliver better quality and user experience."
   ]
  },
  {
   "cell_type": "code",
   "execution_count": 247,
   "id": "a231a4f0-93b6-455e-a058-5ae9b35437ff",
   "metadata": {},
   "outputs": [
    {
     "data": {
      "image/png": "[encoded data removed]",
      "text/plain": [
       "<Figure size 600x400 with 1 Axes>"
      ]
     },
     "metadata": {},
     "output_type": "display_data"
    }
   ],
   "source": [
    "#Distribution of paid app prices\n",
    "plt.figure(figsize=(6,4))\n",
    "sns.histplot(df[df[\"Type\"] == \"Paid\"][\"Price\"], bins=30, kde=True, color=\"purple\")\n",
    "plt.xlabel(\"Price of Paid Apps\")\n",
    "plt.ylabel(\"Number of Apps\")\n",
    "plt.title(\"Distribution of Paid App Prices\")\n",
    "plt.show()\n"
   ]
  },
  {
   "cell_type": "markdown",
   "id": "ddf038c4-8f1e-4fc8-92a1-4327bc60c273",
   "metadata": {},
   "source": [
    "The price distribution of paid apps is highly right-skewed, with most apps priced under $10. \n",
    "\n",
    "A few apps are priced up to $400, but they are rare. The KDE curve shows a sharp peak at low prices with a long tail extending towards expensive apps, indicating possible outliers."
   ]
  },
  {
   "cell_type": "code",
   "execution_count": 252,
   "id": "8ad4cf2c-5ff6-4c09-bb1a-9dedad096a54",
   "metadata": {},
   "outputs": [
    {
     "name": "stdout",
     "output_type": "stream",
     "text": [
      "Category\n",
      "COMMUNICATION         6.598983e+07\n",
      "SOCIAL                4.469239e+07\n",
      "VIDEO_PLAYERS         3.555430e+07\n",
      "PRODUCTIVITY          3.062185e+07\n",
      "PHOTOGRAPHY           3.019021e+07\n",
      "GAME                  2.813918e+07\n",
      "TRAVEL_AND_LOCAL      2.684341e+07\n",
      "ENTERTAINMENT         2.212306e+07\n",
      "NEWS_AND_MAGAZINES    2.042886e+07\n",
      "TOOLS                 1.358573e+07\n",
      "Name: Installs, dtype: float64\n"
     ]
    },
    {
     "data": {
      "image/png": "[encoded data removed]",
      "text/plain": [
       "<Figure size 1200x600 with 1 Axes>"
      ]
     },
     "metadata": {},
     "output_type": "display_data"
    }
   ],
   "source": [
    "#Most popular categories \n",
    "\n",
    "popular_categories = df.groupby(\"Category\")[\"Installs\"].mean().sort_values(ascending=False)\n",
    "\n",
    "print(popular_categories.head(10))\n",
    "\n",
    "plt.figure(figsize=(12,6))\n",
    "sns.barplot(x=popular_categories.head(10).index, y=popular_categories.head(10).values, palette=\"viridis\")\n",
    "plt.xticks(rotation=45)\n",
    "plt.xlabel(\"Category\")\n",
    "plt.ylabel(\"Average Installs\")\n",
    "plt.title(\"Top 10 Most Popular App Categories (by Average Installs)\")\n",
    "plt.show()\n"
   ]
  },
  {
   "cell_type": "markdown",
   "id": "22545901-38e6-40d8-9b28-d6caab1a2c2d",
   "metadata": {},
   "source": [
    "The **Communication** category has the highest average installs (~66 million), making it the most popular category. **Social Media** and **Video Players** follow with approximately **44 million** and **35 million** installs, respectively. Other popular categories include **Productivity, Photography, and Games**, each having over **28 million** installs on average. \n"
   ]
  },
  {
   "cell_type": "code",
   "execution_count": 274,
   "id": "d42f62d4-1a02-4b87-aff6-24247279e962",
   "metadata": {},
   "outputs": [
    {
     "name": "stdout",
     "output_type": "stream",
     "text": [
      "Category\n",
      "EVENTS                 4.395313\n",
      "EDUCATION              4.375385\n",
      "ART_AND_DESIGN         4.355385\n",
      "BOOKS_AND_REFERENCE    4.336522\n",
      "PERSONALIZATION        4.327062\n",
      "PARENTING              4.300000\n",
      "BEAUTY                 4.283019\n",
      "GAME                   4.282070\n",
      "HEALTH_AND_FITNESS     4.266993\n",
      "SOCIAL                 4.260714\n",
      "SHOPPING               4.256250\n",
      "WEATHER                4.248780\n",
      "SPORTS                 4.239031\n",
      "PRODUCTIVITY           4.219410\n",
      "MEDICAL                4.212990\n",
      "LIBRARIES_AND_DEMO     4.207059\n",
      "AUTO_AND_VEHICLES      4.205882\n",
      "FAMILY                 4.203708\n",
      "PHOTOGRAPHY            4.189441\n",
      "HOUSE_AND_HOME         4.185000\n",
      "FOOD_AND_DRINK         4.183871\n",
      "COMMUNICATION          4.175410\n",
      "BUSINESS               4.175176\n",
      "NEWS_AND_MAGAZINES     4.160985\n",
      "COMICS                 4.160000\n",
      "FINANCE                4.148056\n",
      "ENTERTAINMENT          4.136036\n",
      "LIFESTYLE              4.133244\n",
      "TRAVEL_AND_LOCAL       4.121941\n",
      "VIDEO_PLAYERS          4.084000\n",
      "TOOLS                  4.080071\n",
      "MAPS_AND_NAVIGATION    4.075182\n",
      "DATING                 4.033673\n",
      "Name: Rating, dtype: float64\n"
     ]
    }
   ],
   "source": [
    "#Categories having highest rated app\n",
    "\n",
    "high_rated_app=df.groupby('Category')['Rating'].mean().sort_values (ascending=False)\n",
    "print(high_rated_app)"
   ]
  },
  {
   "cell_type": "code",
   "execution_count": 276,
   "id": "396a2bdb-35be-41d2-a186-7d6d316b2205",
   "metadata": {},
   "outputs": [
    {
     "data": {
      "image/png": "[encoded data removed]",
      "text/plain": [
       "<Figure size 1200x600 with 1 Axes>"
      ]
     },
     "metadata": {},
     "output_type": "display_data"
    }
   ],
   "source": [
    "plt.figure(figsize=(12, 6))\n",
    "sns.barplot(x=high_rated_app.values, y=high_rated_app.index, palette=\"plasma\")\n",
    "\n",
    "plt.xlabel(\"Average Rating\")\n",
    "plt.ylabel(\"Category\")\n",
    "plt.title(\"Top Rated App Categories\")\n",
    "plt.xlim(3, 5)  # Ratings usually range from 1 to 5\n",
    "plt.show()"
   ]
  },
  {
   "cell_type": "markdown",
   "id": "d33b0a4a-bb5b-498a-bfff-c72841d47e48",
   "metadata": {},
   "source": [
    "The **highest-rated app categories** are **Events, Education, and Art & Design**, with average ratings above 4.35, indicating strong user satisfaction. **Books & Reference, Personalization, and Parenting** also have high ratings, suggesting their usefulness and positive reception. **Games, Health & Fitness, and Social** maintain solid ratings above 4.25, showing their popularity and engagement. Lower-rated categories like **Dating, Maps & Navigation, and Tools** still have decent ratings above 4.0 but may have more mixed user feedback."
   ]
  },
  {
   "cell_type": "code",
   "execution_count": 281,
   "id": "63f0cc70-3d8a-482a-aad5-1050cf67b16e",
   "metadata": {},
   "outputs": [
    {
     "data": {
      "image/png": "[encoded data removed]",
      "text/plain": [
       "<Figure size 640x480 with 1 Axes>"
      ]
     },
     "metadata": {},
     "output_type": "display_data"
    }
   ],
   "source": [
    "#Effect of app size on number of app installs\n",
    "\n",
    "import seaborn as sns\n",
    "import matplotlib.pyplot as plt\n",
    "\n",
    "sns.scatterplot(x=df[\"Size\"], y=df[\"Installs\"], alpha=0.5, color=\"blue\")\n",
    "plt.title(\"Relationship Between App Size and Installs\")\n",
    "plt.xlabel(\"App Size (MB)\")\n",
    "plt.ylabel(\"Number of Installs\")\n",
    "plt.show()\n"
   ]
  },
  {
   "cell_type": "code",
   "execution_count": 283,
   "id": "1ec141e1-b867-4669-8fe3-1316aeb212d3",
   "metadata": {},
   "outputs": [
    {
     "name": "stdout",
     "output_type": "stream",
     "text": [
      "Correlation between App Size and Installs: 0.16887201973119786\n"
     ]
    }
   ],
   "source": [
    "correlation = df[\"Size\"].corr(df[\"Installs\"])\n",
    "print(\"Correlation between App Size and Installs:\", correlation)\n"
   ]
  },
  {
   "cell_type": "markdown",
   "id": "1393644d-8e6c-44a9-a6e4-fa14d0050a59",
   "metadata": {},
   "source": [
    "The correlation coefficient between App Size and Installs is 0.1689, which is a weak positive correlation. This means that larger apps tend to have slightly more installs, but the relationship is not strong. Other factors like app category, ratings, and usability likely have a greater impact on the number of installs than size alone."
   ]
  },
  {
   "cell_type": "code",
   "execution_count": 289,
   "id": "069315db-f484-4735-ba8d-bb5e8d63f4cc",
   "metadata": {},
   "outputs": [
    {
     "name": "stdout",
     "output_type": "stream",
     "text": [
      "Everyone\n",
      "Content Rating\n",
      "Everyone           8382\n",
      "Teen               1146\n",
      "Mature 17+          447\n",
      "Everyone 10+        376\n",
      "Adults only 18+       3\n",
      "Unrated               2\n",
      "Name: count, dtype: int64\n"
     ]
    }
   ],
   "source": [
    "#Common Content Rating\n",
    "\n",
    "most_common_rating=df['Content Rating'].mode()[0]\n",
    "print(most_common_rating)\n",
    "\n",
    "rating_counts = df['Content Rating'].value_counts()\n",
    "print(rating_counts)"
   ]
  },
  {
   "cell_type": "code",
   "execution_count": 293,
   "id": "32bb0342-1e18-4c9f-89b4-e856fbb45943",
   "metadata": {},
   "outputs": [
    {
     "data": {
      "text/plain": [
       "<function matplotlib.pyplot.show(close=None, block=None)>"
      ]
     },
     "execution_count": 293,
     "metadata": {},
     "output_type": "execute_result"
    },
    {
     "data": {
      "image/png": "[encoded data removed]",
      "text/plain": [
       "<Figure size 600x400 with 1 Axes>"
      ]
     },
     "metadata": {},
     "output_type": "display_data"
    }
   ],
   "source": [
    "plt.figure(figsize=(6,4))\n",
    "\n",
    "sns.barplot(x=rating_counts.index, y=rating_counts.values, palette='magma')\n",
    "\n",
    "plt.xlabel('Content rating of apps')\n",
    "plt.ylabel('Counts')\n",
    "plt.title('Common content rating')\n",
    "plt.xticks(rotation=45)\n",
    "plt.show"
   ]
  },
  {
   "cell_type": "markdown",
   "id": "a9bcf226-c904-4fde-99a7-3d04829b9491",
   "metadata": {},
   "source": [
    "The most common content rating in the Google Play Store dataset is \"Everyone,\" with 8,382 apps falling under this category. \"Teen\" follows with 1,146 apps, while \"Mature 17+\" has 447 apps. The \"Adults only 18+\" and \"Unrated\" categories are rare, with only 3 and 2 apps, respectively."
   ]
  },
  {
   "cell_type": "markdown",
   "id": "8d4eb08b-9471-43d5-912b-074c17d14efc",
   "metadata": {},
   "source": [
    "### Inference:\n",
    "1. **App Distribution**: The dataset reveals that a significant majority of apps are free (80%), and most apps cater to a broad audience, with the \"Everyone\" content rating being the most common. This indicates that developers are primarily focusing on the freemium model, offering apps for free while monetizing through ads or in-app purchases.\n",
    "2. **Categories**: The \"Family\" category dominates, followed by \"Games\" and \"Tools,\" highlighting the high demand for entertainment and productivity apps. However, niche categories like \"Business\" and \"Utility\" also maintain their importance in the market.\n",
    "3. **Ratings & Installs**: The dataset shows that most apps are rated highly (above 4.0), and there is a positive correlation between higher ratings and more installs. However, a few low-rated apps have a significant number of installs, potentially due to being pre-installed or serving essential functions.\n",
    "4. **Paid vs. Free Apps**: Paid apps tend to have slightly higher ratings and fewer low-rated outliers, suggesting that users have higher expectations for paid apps. This could result in more consistent quality for paid apps compared to free ones, which may have more variation in user satisfaction.\n",
    "\n",
    "### Conclusion:\n",
    "The Google Play Store dataset indicates that most apps are free, family-oriented, and highly rated, with entertainment and productivity categories dominating the market. While paid apps tend to have better ratings, free apps are more varied in quality, possibly due to factors like ads or limited features. The positive relationship between high ratings and downloads shows that quality plays a key role in app success, although external factors like app pre-installation can also influence install numbers."
   ]
  },
  {
   "cell_type": "code",
   "execution_count": null,
   "id": "62600df6-56c3-4bba-9eac-61bd01fe892f",
   "metadata": {},
   "outputs": [],
   "source": []
  }
 ],
 "metadata": {
  "kernelspec": {
   "display_name": "Python [conda env:base] *",
   "language": "python",
   "name": "conda-base-py"
  },
  "language_info": {
   "codemirror_mode": {
    "name": "ipython",
    "version": 3
   },
   "file_extension": ".py",
   "mimetype": "text/x-python",
   "name": "python",
   "nbconvert_exporter": "python",
   "pygments_lexer": "ipython3",
   "version": "3.12.7"
  }
 },
 "nbformat": 4,
 "nbformat_minor": 5
}
